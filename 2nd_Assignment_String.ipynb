{
 "cells": [
  {
   "cell_type": "markdown",
   "id": "1ab20b2a",
   "metadata": {},
   "source": [
    "# String Based Assignment Problem\n"
   ]
  },
  {
   "cell_type": "code",
   "execution_count": 1,
   "id": "bcb4b7c5",
   "metadata": {},
   "outputs": [
    {
     "name": "stdout",
     "output_type": "stream",
     "text": [
      "ahjO kehsihbA\n"
     ]
    }
   ],
   "source": [
    "# Write a program to reverse a string.\n",
    "s=\"Abhishek Ojha\"\n",
    "print(s[::-1])"
   ]
  },
  {
   "cell_type": "code",
   "execution_count": 7,
   "id": "08b82554",
   "metadata": {},
   "outputs": [
    {
     "name": "stdout",
     "output_type": "stream",
     "text": [
      "Enter the String = Lol\n",
      "True\n"
     ]
    }
   ],
   "source": [
    "# Check if a string is a palindrome.\n",
    "user=input(\"Enter the String = \")\n",
    "check=user.lower()\n",
    "check1=check[::-1]\n",
    "print(check1==check)"
   ]
  },
  {
   "cell_type": "code",
   "execution_count": 9,
   "id": "94a0ad48",
   "metadata": {},
   "outputs": [
    {
     "name": "stdout",
     "output_type": "stream",
     "text": [
      "Enter the String = bflasdflsgfg\n",
      "BFLASDFLSGFG\n"
     ]
    }
   ],
   "source": [
    " #. Convert a string to uppercase.\n",
    "User_upper=input(\"Enter the String = \")\n",
    "print(User_upper.upper())"
   ]
  },
  {
   "cell_type": "code",
   "execution_count": 11,
   "id": "a8515e30",
   "metadata": {},
   "outputs": [
    {
     "name": "stdout",
     "output_type": "stream",
     "text": [
      "Enter the String = A\n",
      "a\n"
     ]
    }
   ],
   "source": [
    "# Convert a string to lowercase.\n",
    "User_low=input(\"Enter the String = \")\n",
    "print(User_low.lower())"
   ]
  },
  {
   "cell_type": "code",
   "execution_count": 14,
   "id": "941f378c",
   "metadata": {},
   "outputs": [
    {
     "name": "stdout",
     "output_type": "stream",
     "text": [
      "Enter the String = aeiou\n",
      "5\n"
     ]
    }
   ],
   "source": [
    "# Count the number of vowels in a string. (a,e,i,o,u)\n",
    "Check_vow=input(\"Enter the String = \")\n",
    "check_v=Check_vow.lower()\n",
    "print(check_v.count('a')+check_v.count('e')+check_v.count('i')+check_v.count('o')+check_v.count('u'))"
   ]
  },
  {
   "cell_type": "code",
   "execution_count": 38,
   "id": "cb2e0f9b",
   "metadata": {},
   "outputs": [
    {
     "name": "stdout",
     "output_type": "stream",
     "text": [
      "Enter the String = qwe\n",
      "Constant  2\n"
     ]
    }
   ],
   "source": [
    "# Count the number of consonants in a string.\n",
    "check_con=input(\"Enter the String = \")\n",
    "check_c=check_con.lower()\n",
    "con=0\n",
    "for i in check_c:\n",
    "    if(i != 'a'and i != 'e'and i != 'i'and i != 'o'and i != 'u'):\n",
    "        con=con+1\n",
    "print(\"Constant \",con)"
   ]
  },
  {
   "cell_type": "code",
   "execution_count": 43,
   "id": "471c16ec",
   "metadata": {},
   "outputs": [
    {
     "name": "stdout",
     "output_type": "stream",
     "text": [
      "Enter the strin=a a a a\n",
      "aaaa\n"
     ]
    }
   ],
   "source": [
    "#Remove all whitespaces from a string.\n",
    "rem_white=input(\"Enter the strin=\")\n",
    "print(rem_white.replace(\" \",\"\"))"
   ]
  },
  {
   "cell_type": "code",
   "execution_count": 41,
   "id": "7e627f7c",
   "metadata": {},
   "outputs": [
    {
     "name": "stdout",
     "output_type": "stream",
     "text": [
      "Enter the String =Abhishek \n",
      "Length of the string is  9\n"
     ]
    }
   ],
   "source": [
    "# Find the length of a string without using the `len()` function.\n",
    "f_len=input(\"Enter the String =\")\n",
    "sum=0\n",
    "for i in f_len:\n",
    "    sum=sum+1;\n",
    "print(\"Length of the string is \",sum)"
   ]
  },
  {
   "cell_type": "code",
   "execution_count": null,
   "id": "a0904dfb",
   "metadata": {},
   "outputs": [],
   "source": [
    "# Check if a string contains a specific word.\n",
    "Str_con=input(\"Enter the String =\")\n",
    "Str_con.i"
   ]
  },
  {
   "cell_type": "code",
   "execution_count": 42,
   "id": "702b23d2",
   "metadata": {},
   "outputs": [
    {
     "name": "stdout",
     "output_type": "stream",
     "text": [
      "Enter the strin=A a a a aa \n",
      "Aaaaaa\n"
     ]
    }
   ],
   "source": [
    "#Remove all whitespaces from a string.\n",
    "rem_white=input(\"Enter the strin=\")\n",
    "print(rem_white.replace(\" \",\"\"))"
   ]
  },
  {
   "cell_type": "code",
   "execution_count": 48,
   "id": "dd7dcfba",
   "metadata": {},
   "outputs": [
    {
     "name": "stdout",
     "output_type": "stream",
     "text": [
      "Enter the String =Abhishek\n",
      "Enter the substring =sh\n",
      "Yes\n"
     ]
    }
   ],
   "source": [
    "# Check if a string contains a specific word.\n",
    "spc_wd=input(\"Enter the String =\")\n",
    "ch=input(\"Enter the substring =\")\n",
    "if(ch in spc_wd):\n",
    "    print(\"Yes\")\n",
    "else:\n",
    "    print(\"NO\")"
   ]
  },
  {
   "cell_type": "code",
   "execution_count": 49,
   "id": "d80016fc",
   "metadata": {},
   "outputs": [
    {
     "name": "stdout",
     "output_type": "stream",
     "text": [
      "Enter the String =I am Abhishek Ojha\n",
      "Enter the replace wordAbhishek\n",
      "Enter the new word =Harsh\n",
      "I am Harsh Ojha\n"
     ]
    }
   ],
   "source": [
    "# Replace a word in a string with another word.\n",
    "rep_wd=input(\"Enter the String =\")\n",
    "old=input(\"Enter the replace word\")\n",
    "rpl=input(\"Enter the new word =\")\n",
    "print(rep_wd.replace(old,rpl))"
   ]
  },
  {
   "cell_type": "code",
   "execution_count": 50,
   "id": "800831b1",
   "metadata": {},
   "outputs": [
    {
     "name": "stdout",
     "output_type": "stream",
     "text": [
      "Enter the String =I am I am\n",
      "Enther the check word =am\n",
      "2\n"
     ]
    }
   ],
   "source": [
    "#Count the occurrences of a word in a string.\n",
    "c_word=input(\"Enter the String =\")\n",
    "ch_word=input(\"Enther the check word =\")\n",
    "print(c_word.count(ch_word))"
   ]
  },
  {
   "cell_type": "code",
   "execution_count": 52,
   "id": "ed7de44f",
   "metadata": {},
   "outputs": [
    {
     "name": "stdout",
     "output_type": "stream",
     "text": [
      "Enter the word abhishek\n",
      "Enter the alpha =b\n",
      "1\n"
     ]
    }
   ],
   "source": [
    "#Find the first occurrence of a word in a string.\n",
    "\n",
    "f_o=input(\"Enter the word \")\n",
    "ch_w=input(\"Enter the alpha =\")\n",
    "print(f_o.find(ch_w))"
   ]
  },
  {
   "cell_type": "code",
   "execution_count": 1,
   "id": "186d9a57",
   "metadata": {},
   "outputs": [
    {
     "name": "stdout",
     "output_type": "stream",
     "text": [
      "Enter the String =Abhishek\n",
      "Enter the Word =h\n",
      "5\n"
     ]
    }
   ],
   "source": [
    "# Find the last occurrence of a word in a string.\n",
    "l_o=input(\"Enter the String =\")\n",
    "c_0=input(\"Enter the Word =\")\n",
    "print(l_o.rfind(c_0))"
   ]
  },
  {
   "cell_type": "code",
   "execution_count": 8,
   "id": "1427877d",
   "metadata": {},
   "outputs": [
    {
     "name": "stdout",
     "output_type": "stream",
     "text": [
      "ENter the String =pdfs sdz\n",
      "['pdfs', 'sdz']\n"
     ]
    }
   ],
   "source": [
    "# Split a string into a list of words.\n",
    "s_w=input(\"ENter the String =\")\n",
    "l=s_w.split()\n",
    "print(l)"
   ]
  },
  {
   "cell_type": "code",
   "execution_count": 16,
   "id": "7de5eba4",
   "metadata": {},
   "outputs": [
    {
     "name": "stdout",
     "output_type": "stream",
     "text": [
      "My name Abhishek\n"
     ]
    }
   ],
   "source": [
    "# Join a list of words into a string.\n",
    "l1=['My','name','Abhishek']\n",
    "st=str(\" \")\n",
    "print(st.join(l1))"
   ]
  },
  {
   "cell_type": "code",
   "execution_count": 18,
   "id": "5cb5d365",
   "metadata": {},
   "outputs": [
    {
     "name": "stdout",
     "output_type": "stream",
     "text": [
      "ENter the String =My Name is Abhishek\n",
      "My_Name_is_Abhishek\n"
     ]
    }
   ],
   "source": [
    "# Convert a string where words are separated by spaces to one where words are separated by underscores.\n",
    "s_=input(\"ENter the String =\")\n",
    "print(s_.replace(\" \",\"_\"))"
   ]
  },
  {
   "cell_type": "code",
   "execution_count": 20,
   "id": "e2ff3d81",
   "metadata": {},
   "outputs": [
    {
     "name": "stdout",
     "output_type": "stream",
     "text": [
      "ENter the String =My Name is abhishek\n",
      "My_Name_is_abhishek\n"
     ]
    }
   ],
   "source": [
    "#Convert a string where words are separated by spaces to one where wordsare separated by underscores.\n",
    "s_1=input(\"ENter the String =\")\n",
    "print(\"_\".join(s_1.split()))"
   ]
  },
  {
   "cell_type": "code",
   "execution_count": 22,
   "id": "2cf596be",
   "metadata": {},
   "outputs": [
    {
     "name": "stdout",
     "output_type": "stream",
     "text": [
      "ENter teh String = =My name is Abhsihek\n",
      "ENter the specific and phrase = =\n",
      "True\n"
     ]
    }
   ],
   "source": [
    "#Check if a string starts with a specific word or phrase.\n",
    "c_s=input(\"ENter teh String = \")\n",
    "s_p=input(\"ENter the specific and phrase = \")\n",
    "print(c_s.startswith(s_p))"
   ]
  },
  {
   "cell_type": "code",
   "execution_count": 25,
   "id": "e6e89812",
   "metadata": {},
   "outputs": [
    {
     "name": "stdout",
     "output_type": "stream",
     "text": [
      "Enter the String = Check if a string ends with a specific word or phrase\n",
      "Enter the word = phrase\n",
      "True\n"
     ]
    }
   ],
   "source": [
    "#Check if a string ends with a specific word or phrase.\n",
    "e_w=input(\"Enter the String = \")\n",
    "c_p=input(\"Enter the word = \")\n",
    "print(e_w.endswith(c_p))"
   ]
  },
  {
   "cell_type": "code",
   "execution_count": 28,
   "id": "a75f9e43",
   "metadata": {},
   "outputs": [
    {
     "name": "stdout",
     "output_type": "stream",
     "text": [
      "ENte the Stringhello world\n",
      "Hello World\n"
     ]
    }
   ],
   "source": [
    "# Convert a string to title case (e.g., \"hello world\" to \"Hello World\").\n",
    "Cap=input(\"ENte the String\")\n",
    "print(Cap.title())"
   ]
  },
  {
   "cell_type": "code",
   "execution_count": 59,
   "id": "ba992382",
   "metadata": {},
   "outputs": [
    {
     "name": "stdout",
     "output_type": "stream",
     "text": [
      "Enter the String = Find the longest word in a string.\n",
      "4\n",
      "3\n",
      "7\n",
      "4\n",
      "2\n",
      "1\n",
      "7\n",
      "longest\n"
     ]
    }
   ],
   "source": [
    "# Find the longest word in a string.\n",
    "lo=input(\"Enter the String = \")\n",
    "l=list(lo.split())\n",
    "l1=list()\n",
    "for i in l:\n",
    "    print(len(i))\n",
    "    l1.append(len(i))\n",
    "print(l[l1.index(max(l1))])"
   ]
  },
  {
   "cell_type": "code",
   "execution_count": 69,
   "id": "a8a7a8fa",
   "metadata": {},
   "outputs": [
    {
     "name": "stdout",
     "output_type": "stream",
     "text": [
      "ENter the String = Find the shortest word in a string.\n",
      "a\n"
     ]
    }
   ],
   "source": [
    "#Find the shortest word in a string.\n",
    "s_w=input(\"ENter the String = \")\n",
    "sl=list(s_w.split())\n",
    "el=[]\n",
    "for i in sl:\n",
    "    el.append(len(i))\n",
    "print(sl[el.index(min(el))])"
   ]
  },
  {
   "cell_type": "code",
   "execution_count": 80,
   "id": "dddf026d",
   "metadata": {},
   "outputs": [
    {
     "name": "stdout",
     "output_type": "stream",
     "text": [
      "Enter the stringExtract all digits from a string.\n",
      "['Extract all digits from a string.']\n"
     ]
    }
   ],
   "source": [
    "# Reverse the order of words in a string.\n",
    "r=input(\"Enter the string\")\n",
    "rl=list(r.split())\n",
    "print(rl[::-1])"
   ]
  },
  {
   "cell_type": "code",
   "execution_count": 76,
   "id": "ce52162e",
   "metadata": {},
   "outputs": [
    {
     "name": "stdout",
     "output_type": "stream",
     "text": [
      "Enter the String = adws12\n",
      "True\n"
     ]
    }
   ],
   "source": [
    "#Check if a string is alphanumeric.\n",
    "al=input(\"Enter the String = \")\n",
    "print(al.isalnum())"
   ]
  },
  {
   "cell_type": "code",
   "execution_count": 100,
   "id": "cfc4393d",
   "metadata": {},
   "outputs": [
    {
     "name": "stdout",
     "output_type": "stream",
     "text": [
      "Enter the Stringasdfghjkl1234578sdfghjk\n",
      "1234578\n"
     ]
    }
   ],
   "source": [
    "# Extract all digits from a string.\n",
    "e=input(\"Enter the String\")\n",
    "le=list(e)\n",
    "el=[]\n",
    "for i in le:\n",
    "    if (i.isalpha()):\n",
    "        pass\n",
    "    else:\n",
    "        el.append(i)\n",
    "print(\"\".join(el))"
   ]
  },
  {
   "cell_type": "code",
   "execution_count": 107,
   "id": "5b766c32",
   "metadata": {},
   "outputs": [
    {
     "name": "stdout",
     "output_type": "stream",
     "text": [
      "Enter the Stringprint(i)\n",
      "p\n",
      "r\n",
      "i\n",
      "n\n",
      "t\n",
      "(\n",
      "i\n",
      ")\n",
      "printi\n"
     ]
    }
   ],
   "source": [
    "# Extract all alphabets from a string.\n",
    "ea=input(\"Enter the String\")\n",
    "al=list(ea)\n",
    "ls=[]\n",
    "for i in al:\n",
    "    print(i)\n",
    "    if i.isalpha():\n",
    "        ls.append(i)\n",
    "print(\"\".join(ls))"
   ]
  },
  {
   "cell_type": "code",
   "execution_count": 112,
   "id": "6a4e0125",
   "metadata": {},
   "outputs": [
    {
     "name": "stdout",
     "output_type": "stream",
     "text": [
      "ENter the String = Abhishek Ojha\n",
      "2\n"
     ]
    }
   ],
   "source": [
    "#Count the number of uppercase letters in a string.\n",
    "cp=input(\"ENter the String = \")\n",
    "sum=0\n",
    "for i in cp:\n",
    "    if(i.isupper()):\n",
    "        sum=sum+1\n",
    "print(sum)"
   ]
  },
  {
   "cell_type": "code",
   "execution_count": 113,
   "id": "ec4b5eae",
   "metadata": {},
   "outputs": [
    {
     "name": "stdout",
     "output_type": "stream",
     "text": [
      "Enter the String = Abhishek\n",
      "7\n"
     ]
    }
   ],
   "source": [
    "# Count the number of lowercase letters in a string.\n",
    "cl=input(\"Enter the String = \")\n",
    "lsum=0\n",
    "for i in cl:\n",
    "    if i.islower():\n",
    "        lsum=lsum+1\n",
    "print(lsum)"
   ]
  },
  {
   "cell_type": "code",
   "execution_count": 114,
   "id": "cedfc916",
   "metadata": {},
   "outputs": [
    {
     "name": "stdout",
     "output_type": "stream",
     "text": [
      "Enter the String = Swap the case of each character in a string.\n",
      "sWAP THE CASE OF EACH CHARACTER IN A STRING.\n"
     ]
    }
   ],
   "source": [
    "# Swap the case of each character in a string.\n",
    "sw=input(\"Enter the String = \")\n",
    "print(sw.swapcase())"
   ]
  },
  {
   "cell_type": "code",
   "execution_count": 115,
   "id": "0a408bc2",
   "metadata": {},
   "outputs": [
    {
     "name": "stdout",
     "output_type": "stream",
     "text": [
      "Enter the String = My name is Abhishek\n",
      "Enter the remove wordis\n",
      "My name  Abhhek\n"
     ]
    }
   ],
   "source": [
    "# Remove a specific word from a string.\n",
    "rw=input(\"Enter the String = \")\n",
    "r_w=input(\"Enter the remove word\")\n",
    "print(rw.replace(r_w,\"\"))\n"
   ]
  },
  {
   "cell_type": "code",
   "execution_count": 140,
   "id": "24ed7660",
   "metadata": {},
   "outputs": [
    {
     "name": "stdout",
     "output_type": "stream",
     "text": [
      "Enter the email @sdfghjhk.com\n",
      "Wrong email start with alpha\n",
      "Not Valid\n"
     ]
    }
   ],
   "source": [
    "# Check if a string is a valid email address.\n",
    "em=input(\"Enter the email \")\n",
    "sum,sum2=0,0\n",
    "if(len(em))>=6:\n",
    "    if(\"@\" in em) and em.count(\"@\")==1:\n",
    "        if(em[0].isalpha()):\n",
    "            if (em[-3]==\".\") ^ (em[-4]==\".\"):\n",
    "                for i in em:\n",
    "                    if(i.isalpha()):\n",
    "                        sum=sum+1\n",
    "                    elif (i.isnumeric()):\n",
    "                        sum=sum+1\n",
    "                    elif (i==\"@\" or i==\"_\" or i==\".\"):\n",
    "                        sum=sum+1\n",
    "                    else:\n",
    "                        sum2=sum2+1\n",
    "                        \n",
    "            else:\n",
    "                print(\"Check count of '.'\")\n",
    "        else:\n",
    "            print(\"Wrong email start with alpha\")\n",
    "    else:\n",
    "        print(\"Wrong Email @\")\n",
    "else:\n",
    "    print(\"Wrong Email\")\n",
    "if sum!=0 and sum2==0:\n",
    "    print(\"Valid\")\n",
    "else:\n",
    "    print(\"Not Valid\")"
   ]
  },
  {
   "cell_type": "code",
   "execution_count": 148,
   "id": "c41196aa",
   "metadata": {},
   "outputs": [
    {
     "name": "stdout",
     "output_type": "stream",
     "text": [
      "Enter the email ojhaabhishek200098@gmail.com\n",
      "ojhaabhishek200098\n"
     ]
    }
   ],
   "source": [
    "#Extract the username from an email address string.\n",
    "em=input(\"Enter the email \")\n",
    "sum,sum2=0,0\n",
    "if(len(em))>=6:\n",
    "    if(\"@\" in em) and em.count(\"@\")==1:\n",
    "        if(em[0].isalpha()):\n",
    "            if (em[-3]==\".\") ^ (em[-4]==\".\"):\n",
    "                for i in em:\n",
    "                    if(i.isalpha()):\n",
    "                        sum=sum+1\n",
    "                    elif (i.isnumeric()):\n",
    "                        sum=sum+1\n",
    "                    elif (i==\"@\" or i==\"_\" or i==\".\"):\n",
    "                        sum=sum+1\n",
    "                    else:\n",
    "                        sum2=sum2+1\n",
    "                        \n",
    "            else:\n",
    "                print(\"Check count of '.'\")\n",
    "        else:\n",
    "            print(\"Wrong email start with alpha\")\n",
    "    else:\n",
    "        print(\"Wrong Email @\")\n",
    "else:\n",
    "    print(\"Wrong Email\")\n",
    "if sum!=0 and sum2==0:\n",
    "    fu=em.index(\"@\")\n",
    "    \n",
    "else:\n",
    "    print(\"Not Valid\")\n",
    "print(em[:fu])"
   ]
  },
  {
   "cell_type": "code",
   "execution_count": 149,
   "id": "1138baa0",
   "metadata": {},
   "outputs": [
    {
     "name": "stdout",
     "output_type": "stream",
     "text": [
      "Enter the email ojhaabhishek200098@gmail.com\n",
      "gmail.com\n"
     ]
    }
   ],
   "source": [
    "# Extract the domain name from an email address string.\n",
    "em=input(\"Enter the email \")\n",
    "sum,sum2=0,0\n",
    "if(len(em))>=6:\n",
    "    if(\"@\" in em) and em.count(\"@\")==1:\n",
    "        if(em[0].isalpha()):\n",
    "            if (em[-3]==\".\") ^ (em[-4]==\".\"):\n",
    "                for i in em:\n",
    "                    if(i.isalpha()):\n",
    "                        sum=sum+1\n",
    "                    elif (i.isnumeric()):\n",
    "                        sum=sum+1\n",
    "                    elif (i==\"@\" or i==\"_\" or i==\".\"):\n",
    "                        sum=sum+1\n",
    "                    else:\n",
    "                        sum2=sum2+1\n",
    "                        \n",
    "            else:\n",
    "                print(\"Check count of '.'\")\n",
    "        else:\n",
    "            print(\"Wrong email start with alpha\")\n",
    "    else:\n",
    "        print(\"Wrong Email @\")\n",
    "else:\n",
    "    print(\"Wrong Email\")\n",
    "if sum!=0 and sum2==0:\n",
    "    fu=em.index(\"@\")\n",
    "    \n",
    "else:\n",
    "    print(\"Not Valid\")\n",
    "print(em[(fu+1):])"
   ]
  },
  {
   "cell_type": "code",
   "execution_count": 152,
   "id": "5d684e4b",
   "metadata": {},
   "outputs": [
    {
     "name": "stdout",
     "output_type": "stream",
     "text": [
      "Enter the String =my name is.     Abhishek\n",
      "my name is. Abhishek\n"
     ]
    }
   ],
   "source": [
    "# Replace multiple spaces in a string with a single space.\n",
    "rs=input(\"Enter the String =\")\n",
    "lr=list(rs.split())\n",
    "print(\" \".join(lr))"
   ]
  },
  {
   "cell_type": "code",
   "execution_count": 166,
   "id": "e4a45aa2",
   "metadata": {},
   "outputs": [
    {
     "name": "stdout",
     "output_type": "stream",
     "text": [
      "Enter the Url http://googleco.\n",
      "Not valid url\n"
     ]
    }
   ],
   "source": [
    "# Check if a string is a valid URL.\n",
    "url=input(\"Enter the Url \")\n",
    "if len(url)>=10:\n",
    "    if(url[:7]==\"http://\" or url[:8]==\"https://\"):\n",
    "        if(url[-3]==\".\" or url[-4]==\".\"):\n",
    "            print(\"Valid\")\n",
    "        else:\n",
    "            print('Not valid url')\n",
    "    else:\n",
    "        print(\"Wrong URL 2\")\n",
    "else:\n",
    "    print(\"Wromg URl 1\")"
   ]
  },
  {
   "cell_type": "code",
   "execution_count": 171,
   "id": "ac136d00",
   "metadata": {},
   "outputs": [
    {
     "name": "stdout",
     "output_type": "stream",
     "text": [
      "Enter the Url http://stackoverflow.com\n",
      "http\n"
     ]
    }
   ],
   "source": [
    "# Extract the protocol (http or https) from a URL string.\n",
    "url=input(\"Enter the Url \")\n",
    "if len(url)>=10:\n",
    "    if(url[:7]==\"http://\" or url[:8]==\"https://\"):\n",
    "        if(url[-3]==\".\" or url[-4]==\".\"):\n",
    "            if url[:5]==\"https\":\n",
    "                print(url[:5])\n",
    "            else:\n",
    "                print(url[:4])\n",
    "        else:\n",
    "            print('Not valid url')\n",
    "    else:\n",
    "        print(\"Wrong URL 2\")\n",
    "else:\n",
    "    print(\"Wromg URl 1\")"
   ]
  },
  {
   "cell_type": "code",
   "execution_count": 185,
   "id": "ccf634ec",
   "metadata": {},
   "outputs": [
    {
     "name": "stdout",
     "output_type": "stream",
     "text": [
      "Enter the stringAbhishek Ojha\n",
      "a  count is  2\n",
      "k  count is  1\n",
      "b  count is  1\n",
      "i  count is  1\n",
      "e  count is  1\n",
      "o  count is  1\n",
      "s  count is  1\n",
      "j  count is  1\n",
      "h  count is  3\n"
     ]
    }
   ],
   "source": [
    "# Find the frequency of each character in a string.\n",
    "c=input(\"Enter the string\")\n",
    "ec=c.lower()\n",
    "sc=set(ec.replace(\" \",\"\"))\n",
    "for i in sc:\n",
    "    print(i,\" count is \",ec.count(i))\n"
   ]
  },
  {
   "cell_type": "code",
   "execution_count": 209,
   "id": "441c19d2",
   "metadata": {},
   "outputs": [
    {
     "name": "stdout",
     "output_type": "stream",
     "text": [
      "Enter the String!@#$%^ASDFGHJ,.?\n",
      "%^ASDFGHJ\n"
     ]
    }
   ],
   "source": [
    "# Remove all punctuation from a string.\n",
    "\n",
    "s=input(\"Enter the String\")\n",
    "if \"!\" in s or \"@\" in s or \"#\" in s or \"$\" in s or \")\" in s or \"(\" in s or \";\" in s or \":\" in s or \"_\" in s or \".\" in s or \",\" in s or \"?\" in s:\n",
    "    print(s.replace(\"!\",\"\").replace(\"@\",\"\").replace(\"#\",\"\").replace(\"$\",\"\").replace(\")\",\"\").replace(\"(\",\"\").replace(\"?\",\"\").replace(\";\",\"\").replace(\"_\",\"\").replace(\".\",\"\").replace(\",\",\"\").replace(\":\",\"\"))"
   ]
  },
  {
   "cell_type": "code",
   "execution_count": 213,
   "id": "b96bafd8",
   "metadata": {},
   "outputs": [
    {
     "name": "stdout",
     "output_type": "stream",
     "text": [
      "Enter the String = asdfghj!@#$%1\n"
     ]
    },
    {
     "data": {
      "text/plain": [
       "False"
      ]
     },
     "execution_count": 213,
     "metadata": {},
     "output_type": "execute_result"
    }
   ],
   "source": [
    "# Check if a string contains only digits.\n",
    "ol=input(\"Enter the String = \")\n",
    "ol.isdigit()\n"
   ]
  },
  {
   "cell_type": "code",
   "execution_count": 222,
   "id": "4148fe27",
   "metadata": {},
   "outputs": [
    {
     "name": "stdout",
     "output_type": "stream",
     "text": [
      "Enter the String =dghjkl1234\n"
     ]
    },
    {
     "data": {
      "text/plain": [
       "False"
      ]
     },
     "execution_count": 222,
     "metadata": {},
     "output_type": "execute_result"
    }
   ],
   "source": [
    "# Check if a string contains only alphabets.\n",
    "oa=input(\"Enter the String =\")\n",
    "o=str(oa)\n",
    "o.isalpha()\n"
   ]
  },
  {
   "cell_type": "code",
   "execution_count": 223,
   "id": "2b7a2d68",
   "metadata": {},
   "outputs": [
    {
     "name": "stdout",
     "output_type": "stream",
     "text": [
      "Enter the String = Abhishek\n"
     ]
    },
    {
     "data": {
      "text/plain": [
       "['A', 'b', 'h', 'i', 's', 'h', 'e', 'k']"
      ]
     },
     "execution_count": 223,
     "metadata": {},
     "output_type": "execute_result"
    }
   ],
   "source": [
    "# Convert a string to a list of characters.\n",
    "lc=input(\"Enter the String = \")\n",
    "li=list(lc)\n",
    "li"
   ]
  },
  {
   "cell_type": "code",
   "execution_count": 233,
   "id": "a0b23a3d",
   "metadata": {},
   "outputs": [
    {
     "name": "stdout",
     "output_type": "stream",
     "text": [
      "Enter 1st the String = Ojha\n",
      "Enter 2nd the String = jhao\n",
      "It is Anagram\n",
      "['a', 'h', 'j', 'o']\n",
      "['a', 'h', 'j', 'o']\n"
     ]
    }
   ],
   "source": [
    "# Check if two strings are anagrams.\n",
    "str1=input(\"Enter 1st the String = \")\n",
    "str2=input(\"Enter 2nd the String = \")\n",
    "st1=list(str1.lower())\n",
    "st2=list(str2.lower())\n",
    "if(st1.sort()==st2.sort()):\n",
    "    print(\"It is Anagram\")\n",
    "else:\n",
    "    print(\"Not Anagram\")\n",
    "    \n",
    "    "
   ]
  },
  {
   "cell_type": "code",
   "execution_count": 274,
   "id": "8a45d68d",
   "metadata": {},
   "outputs": [
    {
     "name": "stdout",
     "output_type": "stream",
     "text": [
      "ENter the String : ab\n",
      "Enter the cipher kwy2\n",
      "cd\n"
     ]
    }
   ],
   "source": [
    "# Encode a string using a Caesar cipher.\n",
    "en=input(\"ENter the String : \")\n",
    "el=[]\n",
    "ae=[]\n",
    "key=int(input(\"Enter the cipher kwy\"))\n",
    "for i in en:\n",
    "    el.append(ord(i)+key)\n",
    "for j in el:\n",
    "    ae.append((chr(j)))\n",
    "print(\"\".join(ae))\n",
    "\n"
   ]
  },
  {
   "cell_type": "code",
   "execution_count": 278,
   "id": "b4c3c791",
   "metadata": {},
   "outputs": [
    {
     "name": "stdout",
     "output_type": "stream",
     "text": [
      "Enter the ciphercd\n",
      "Enter the cipher key-2\n",
      "ab\n"
     ]
    }
   ],
   "source": [
    "# Decode a Caesar cipher encoded string.\n",
    "ds=input(\"Enter the cipher\")\n",
    "dkey=int(input(\"Enter the cipher key\"))\n",
    "dl=[]\n",
    "de=[]\n",
    "for i in ds:\n",
    "    dl.append(ord(i)+(dkey))\n",
    "for j in dl:\n",
    "    de.append(chr(j))\n",
    "print(\"\".join(de))"
   ]
  },
  {
   "cell_type": "code",
   "execution_count": 297,
   "id": "763d4279",
   "metadata": {},
   "outputs": [
    {
     "name": "stdout",
     "output_type": "stream",
     "text": [
      "Enter the string =My my may\n",
      "my\n"
     ]
    }
   ],
   "source": [
    "# Find the most frequent word in a string.\n",
    "mf=input(\"Enter the string =\")\n",
    "mf=mf.lower()\n",
    "sl=list(set(mf.split()))\n",
    "le=[]\n",
    "for i in sl:\n",
    "    le.append(mf.count(i))\n",
    "print(sl[le.index(max(le))])\n"
   ]
  },
  {
   "cell_type": "code",
   "execution_count": 311,
   "id": "de2186eb",
   "metadata": {},
   "outputs": [
    {
     "name": "stdout",
     "output_type": "stream",
     "text": [
      "Enter the StringMy name my\n",
      "['my', 'name']\n",
      "name\n"
     ]
    }
   ],
   "source": [
    "# Find all unique words in a string.\n",
    "u=input(\"Enter the String\")\n",
    "u=u.lower()\n",
    "lu=list(set(u.split()))\n",
    "print(lu)\n",
    "for i in lu:\n",
    "    if(int(u.count(i))==1):\n",
    "        print(i)\n",
    "    "
   ]
  },
  {
   "cell_type": "code",
   "execution_count": 317,
   "id": "eedb1a28",
   "metadata": {},
   "outputs": [
    {
     "name": "stdout",
     "output_type": "stream",
     "text": [
      "Enter the StringMy name is Abhishek\n",
      "3\n"
     ]
    }
   ],
   "source": [
    "# Count the number of syllables in a string.\n",
    "sy=input(\"Enter the String\")\n",
    "sy=sy.lower()\n",
    "lv=list(sy.split())\n",
    "count=0\n",
    "for i in lv:\n",
    "    if \"a\" in i or \"e\" in i or \"i\" in i or \"o\" in i or \"u\" in i :\n",
    "        count=count+1\n",
    "\n",
    "print(count)"
   ]
  },
  {
   "cell_type": "code",
   "execution_count": 321,
   "id": "e5602189",
   "metadata": {},
   "outputs": [
    {
     "name": "stdout",
     "output_type": "stream",
     "text": [
      "Enter the string1hhohoewieoh@\n",
      "Yes special character\n"
     ]
    }
   ],
   "source": [
    "# Check if a string contains any special characters.\n",
    "sc=input(\"Enter the string\")\n",
    "l=\"!@#$%^&*()_?><,./:';~`'\"\n",
    "sum=0\n",
    "for i in sc:\n",
    "    if(i in l):\n",
    "        sum=+1\n",
    "if sum==0:\n",
    "    print(\"NO special character\")\n",
    "else:\n",
    "    print(\"Yes special character\")\n",
    "        \n"
   ]
  },
  {
   "cell_type": "code",
   "execution_count": 330,
   "id": "a2d52f47",
   "metadata": {},
   "outputs": [
    {
     "name": "stdout",
     "output_type": "stream",
     "text": [
      "Enter the string: My name is Abhi\n",
      "nth number 2\n",
      "My name Abhi\n"
     ]
    }
   ],
   "source": [
    "# Remove the nth word from a string.\n",
    "rm=input(\"Enter the string: \")\n",
    "nt=int(input(\"nth number \"))\n",
    "li=list(rm.split())\n",
    "li.pop(nt)\n",
    "print(\" \".join(li))"
   ]
  },
  {
   "cell_type": "code",
   "execution_count": 334,
   "id": "defa84c9",
   "metadata": {},
   "outputs": [
    {
     "name": "stdout",
     "output_type": "stream",
     "text": [
      "Enter the String My name is Abhishke\n",
      "Enter the position 3\n",
      "Enter the word Abhi\n",
      "My name is Abhi Abhishke\n"
     ]
    }
   ],
   "source": [
    "#Insert a word at the nth position in a string.\n",
    "i=input(\"Enter the String \")\n",
    "n=int(input(\"Enter the position \"))\n",
    "w=input(\"Enter the word \")\n",
    "ln=list(i.split())\n",
    "ln.insert(n,w)\n",
    "print(\" \".join(ln))"
   ]
  },
  {
   "cell_type": "code",
   "execution_count": 336,
   "id": "3d5e5872",
   "metadata": {},
   "outputs": [
    {
     "name": "stdout",
     "output_type": "stream",
     "text": [
      "Enter the csvMy,name,is,Abhishek\n",
      "My name is Abhishek\n"
     ]
    }
   ],
   "source": [
    "# Convert a CSV string to a list of lists.\n",
    "cs=input(\"Enter the csv \")\n",
    "ls=list(cs.split(\",\"))\n",
    "print(\" \".join(ls))"
   ]
  },
  {
   "cell_type": "markdown",
   "id": "274aee39",
   "metadata": {},
   "source": [
    " # List Based Practice Problem :"
   ]
  },
  {
   "cell_type": "code",
   "execution_count": 2,
   "id": "ef5de04d",
   "metadata": {},
   "outputs": [
    {
     "name": "stdout",
     "output_type": "stream",
     "text": [
      "[1, 2, 3, 4, 5, 6, 7, 8, 9, 10]\n"
     ]
    }
   ],
   "source": [
    "#1 .Create a list with integers from 1 to 10.\n",
    "L=[1,2,3,4,5,6,7,8,9,10]\n",
    "print(L)"
   ]
  },
  {
   "cell_type": "code",
   "execution_count": 3,
   "id": "cc3de50d",
   "metadata": {},
   "outputs": [
    {
     "data": {
      "text/plain": [
       "10"
      ]
     },
     "execution_count": 3,
     "metadata": {},
     "output_type": "execute_result"
    }
   ],
   "source": [
    "# 2.Find the length of a list without using the `len()` function.\n",
    "l=[1,2,3,4,5,6,7,8,9,0]\n",
    "count=0\n",
    "for i in l:\n",
    "    count+=1\n",
    "count"
   ]
  },
  {
   "cell_type": "code",
   "execution_count": 4,
   "id": "fc4aeb11",
   "metadata": {},
   "outputs": [
    {
     "name": "stdout",
     "output_type": "stream",
     "text": [
      "[1, 2, 3, 4, 5, 6, 7, 8, 9, 10]\n"
     ]
    }
   ],
   "source": [
    "# 3. Append an element to the end of a list.\n",
    "li=[1,2,3,4,5,6,7,8,9]\n",
    "li.append(10)\n",
    "print(li)"
   ]
  },
  {
   "cell_type": "code",
   "execution_count": 5,
   "id": "6ef4ed94",
   "metadata": {},
   "outputs": [
    {
     "name": "stdout",
     "output_type": "stream",
     "text": [
      "[1, 2, 3, 4, 5, 6, 7, 8, 9, 10]\n"
     ]
    }
   ],
   "source": [
    "# 4. Insert an element at a specific index in a list.\n",
    "lis=[1,2,3,4,5,7,8,9,10]\n",
    "lis.insert(5,6)\n",
    "print(lis)\n"
   ]
  },
  {
   "cell_type": "code",
   "execution_count": 8,
   "id": "24b88d50",
   "metadata": {},
   "outputs": [
    {
     "name": "stdout",
     "output_type": "stream",
     "text": [
      "[1, 2, 3, 4, 5, 6, 7, 8, 9, 10]\n"
     ]
    }
   ],
   "source": [
    "# 5.Remove an element from a list by its value.\n",
    "rl=[1,2,3,4,5,6,7,8,9,10,11]\n",
    "rl.remove(11)\n",
    "print(rl)"
   ]
  },
  {
   "cell_type": "code",
   "execution_count": 12,
   "id": "97a38087",
   "metadata": {},
   "outputs": [
    {
     "name": "stdout",
     "output_type": "stream",
     "text": [
      "[1, 2, 3, 4, 5, 6, 7, 8, 9, 10]\n"
     ]
    }
   ],
   "source": [
    "# 6. Remove an element from a list by its index.\n",
    "rsl=[1,2,3,4,5,5,6,7,8,9,10]\n",
    "rsl.pop(5)\n",
    "print(rsl)"
   ]
  },
  {
   "cell_type": "code",
   "execution_count": 13,
   "id": "a4f561b2",
   "metadata": {},
   "outputs": [
    {
     "name": "stdout",
     "output_type": "stream",
     "text": [
      "Yes, its exits in list\n"
     ]
    }
   ],
   "source": [
    "# 7. Check if an element exists in a list.\n",
    "e=1\n",
    "l1=[1,2,3,4,5]\n",
    "if(e in l1):\n",
    "    print(\"Yes, its exits in list\")\n",
    "else:\n",
    "    print(\"NO. its not exits\")"
   ]
  },
  {
   "cell_type": "code",
   "execution_count": 23,
   "id": "47f9f86b",
   "metadata": {},
   "outputs": [
    {
     "name": "stdout",
     "output_type": "stream",
     "text": [
      "1\n"
     ]
    }
   ],
   "source": [
    "# 8. Find the index of the first occurrence of an element in a list.\n",
    "fl=[1,2,2,4,5,6]\n",
    "f=2\n",
    "print(fl.index(f))\n"
   ]
  },
  {
   "cell_type": "code",
   "execution_count": 25,
   "id": "cc439b21",
   "metadata": {},
   "outputs": [
    {
     "name": "stdout",
     "output_type": "stream",
     "text": [
      "1  count is  4\n",
      "2  count is  3\n",
      "3  count is  1\n",
      "5  count is  1\n"
     ]
    }
   ],
   "source": [
    "# 9. Count the occurrences of an element in a list.\n",
    "lis=[1,1,2,2,1,3,1,2,5]\n",
    "s=set(lis)\n",
    "for i in s:\n",
    "    print(i,\" count is \",lis.count(i))"
   ]
  },
  {
   "cell_type": "code",
   "execution_count": 28,
   "id": "55ebb9ff",
   "metadata": {},
   "outputs": [
    {
     "name": "stdout",
     "output_type": "stream",
     "text": [
      "[9, 8, 7, 6, 5, 4, 3, 2, 1]\n"
     ]
    }
   ],
   "source": [
    "# 10. Reverse the order of elements in a list.\n",
    "rl=[1,2,3,4,5,6,7,8,9]\n",
    "rl.reverse()\n",
    "print(rl)"
   ]
  },
  {
   "cell_type": "code",
   "execution_count": 30,
   "id": "b8c4eec5",
   "metadata": {},
   "outputs": [
    {
     "name": "stdout",
     "output_type": "stream",
     "text": [
      "[1, 2, 3, 4, 5, 6, 7, 8, 9]\n"
     ]
    }
   ],
   "source": [
    "# 11. Sort a list in ascending order.\n",
    "rl.sort()\n",
    "print(rl)"
   ]
  },
  {
   "cell_type": "code",
   "execution_count": 39,
   "id": "56c26358",
   "metadata": {},
   "outputs": [
    {
     "name": "stdout",
     "output_type": "stream",
     "text": [
      "['car', 'bike']\n"
     ]
    }
   ],
   "source": [
    "#12. Sort a list in descending order.\n",
    "rl=[\"car\",\"bike\"]\n",
    "rl.sort(reverse=True)\n",
    "print(rl)"
   ]
  },
  {
   "cell_type": "code",
   "execution_count": 51,
   "id": "c2208960",
   "metadata": {},
   "outputs": [
    {
     "name": "stdout",
     "output_type": "stream",
     "text": [
      "[2, 4, 6, 8, 10, 12, 14, 16, 18, 20]\n"
     ]
    }
   ],
   "source": [
    "# 13. Create a list of even numbers from 1 to 20.\n",
    "el=[]\n",
    "for i in range(2,21):\n",
    "    if(i%2==0):\n",
    "        el.append(i)\n",
    "print(el)"
   ]
  },
  {
   "cell_type": "code",
   "execution_count": 55,
   "id": "92cbd989",
   "metadata": {},
   "outputs": [
    {
     "name": "stdout",
     "output_type": "stream",
     "text": [
      "[1, 3, 5, 7, 9, 11, 13, 15, 17, 19]\n"
     ]
    }
   ],
   "source": [
    "# 14. Create a list of odd numbers from 1 to 20.\n",
    "ol=[]\n",
    "for i in range(0,21):\n",
    "    if(i%2==0):\n",
    "        continue\n",
    "    else:\n",
    "        ol.append(i)\n",
    "print(ol)"
   ]
  },
  {
   "cell_type": "code",
   "execution_count": 67,
   "id": "af41e3aa",
   "metadata": {},
   "outputs": [
    {
     "name": "stdout",
     "output_type": "stream",
     "text": [
      "Enter teh length of the list3\n",
      "Enter the element1\n",
      "Enter the element2\n",
      "Enter the element3\n",
      "6\n"
     ]
    }
   ],
   "source": [
    "# 15. Find the sum of all elements in a list.\n",
    "l=int(input(\"Enter teh length of the list\"))\n",
    "sl=list()\n",
    "for i in range(l):\n",
    "    te=int(input(\"Enter the element\"))\n",
    "    sl.append(te)\n",
    "print(sum(sl))"
   ]
  },
  {
   "cell_type": "code",
   "execution_count": 68,
   "id": "1e99f1b2",
   "metadata": {},
   "outputs": [
    {
     "name": "stdout",
     "output_type": "stream",
     "text": [
      "Ente the length of the list5\n",
      "Enter the Number1\n",
      "Enter the Number3\n",
      "Enter the Number5\n",
      "Enter the Number6\n",
      "Enter the Number7\n",
      "7\n"
     ]
    }
   ],
   "source": [
    "# 16. Find the maximum value in a list.\n",
    "le=int(input(\"Ente the length of the list\"))\n",
    "el=[]\n",
    "for i in range(le):\n",
    "    tem=int(input(\"Enter the Number\"))\n",
    "    el.append(tem)\n",
    "print(max(el))"
   ]
  },
  {
   "cell_type": "code",
   "execution_count": 69,
   "id": "d6b3d874",
   "metadata": {},
   "outputs": [
    {
     "name": "stdout",
     "output_type": "stream",
     "text": [
      "Ente the Length of the List4\n",
      "Enter the Number1\n",
      "Enter the Number2\n",
      "Enter the Number3\n",
      "Enter the Number0\n",
      "0\n"
     ]
    }
   ],
   "source": [
    "# 17. Find the minimum value in a list.\n",
    "ln=int(input(\"Ente the Length of the List\"))\n",
    "ml=[]\n",
    "for i in range(ln):\n",
    "    tem=int(input(\"Enter the Number\"))\n",
    "    ml.append(tem)\n",
    "print(min(ml))"
   ]
  },
  {
   "cell_type": "code",
   "execution_count": 70,
   "id": "5e330a5b",
   "metadata": {},
   "outputs": [
    {
     "name": "stdout",
     "output_type": "stream",
     "text": [
      "[1, 4, 9, 16, 25, 36, 49, 64, 81, 100]\n"
     ]
    }
   ],
   "source": [
    "# 18. Create a list of squares of numbers from 1 to 10.\n",
    "sq=[]\n",
    "for i in range(1,11):\n",
    "    sq.append(i**2)\n",
    "print(sq)"
   ]
  },
  {
   "cell_type": "code",
   "execution_count": 78,
   "id": "3dc81b9d",
   "metadata": {},
   "outputs": [
    {
     "name": "stdout",
     "output_type": "stream",
     "text": [
      "[81, 81, 16, 19, 14, 59, 78, 48, 8, 99]\n"
     ]
    }
   ],
   "source": [
    "# 19. Create a list of random numbers.\n",
    "import random\n",
    "l=[]\n",
    "for i in range(0,10):\n",
    "    l.append(random.randint(1,100))\n",
    "print(l)"
   ]
  },
  {
   "cell_type": "code",
   "execution_count": 71,
   "id": "e05c282c",
   "metadata": {},
   "outputs": [
    {
     "name": "stdout",
     "output_type": "stream",
     "text": [
      "Enter the Length of the list5\n",
      "Enter the Number1\n",
      "Enter the Number2\n",
      "Enter the Number2\n",
      "Enter the Number3\n",
      "Enter the Number4\n",
      "{1, 2, 3, 4}\n"
     ]
    }
   ],
   "source": [
    "# 20. Remove duplicates from a list.\n",
    "lt=int(input(\"Enter the Length of the list\"))\n",
    "dl=[]\n",
    "for i in range(lt):\n",
    "    tem=int(input(\"Enter the Number\"))\n",
    "    dl.append(tem)\n",
    "print(set(dl))"
   ]
  },
  {
   "cell_type": "code",
   "execution_count": 74,
   "id": "1d76ec9f",
   "metadata": {},
   "outputs": [
    {
     "name": "stdout",
     "output_type": "stream",
     "text": [
      "Enter the length of first lis3\n",
      "Enter the length of 2nd lis4\n",
      "Enter1\n",
      "Enter2\n",
      "Enter3\n",
      "Enter1\n",
      "Enter2\n",
      "Enter3\n",
      "Enter4\n",
      "['1', '2', '3']\n"
     ]
    }
   ],
   "source": [
    "# 21. Find the common elements between two lists.\n",
    "l1=int(input(\"Enter the length of first lis\"))\n",
    "l2=int(input(\"Enter the length of 2nd lis\"))\n",
    "c=[]\n",
    "c1=[]\n",
    "co=[]\n",
    "for i in range(l1):\n",
    "    tem=input(\"Enter\")\n",
    "    c.append(tem)\n",
    "for i in range(l2):\n",
    "    tem1=input(\"Enter\")\n",
    "    c1.append(tem1)\n",
    "for i in range(l1):\n",
    "    if(c[i] in c1):\n",
    "        co.append(c[i])\n",
    "print(co)\n",
    "        "
   ]
  },
  {
   "cell_type": "code",
   "execution_count": 123,
   "id": "b9ae28c6",
   "metadata": {},
   "outputs": [
    {
     "name": "stdout",
     "output_type": "stream",
     "text": [
      "Enter the length of first list3\n",
      "Enter the length of 2nd list4\n",
      "Enter1\n",
      "Enter2\n",
      "Enter3\n",
      "Enter4\n",
      "Enter3\n",
      "Enter2\n",
      "Enter1\n",
      "l2\n",
      "if\n",
      "if\n",
      "if\n",
      "['4']\n"
     ]
    }
   ],
   "source": [
    "# 22. Find the difference between two lists.\n",
    "l1=int(input(\"Enter the length of first list\"))\n",
    "l2=int(input(\"Enter the length of 2nd list\"))\n",
    "c=[]\n",
    "c1=[]\n",
    "co=[]\n",
    "for i in range(l1):\n",
    "    tem=input(\"Enter\")\n",
    "    c.append(tem)\n",
    "for i in range(l2):\n",
    "    tem1=input(\"Enter\")\n",
    "    c1.append(tem1)\n",
    "if l1>l2:\n",
    "    print(\"l1\")\n",
    "    for i in range(l1):\n",
    "        print(i)\n",
    "        if(c[i] in c1):\n",
    "            continue\n",
    "        else:\n",
    "            co.append(c[i])\n",
    "    \n",
    "else:\n",
    "    print(\"l2\")\n",
    "    for i in range(l2):\n",
    "        if(c1[i] in c):\n",
    "            print(\"if\")\n",
    "            continue\n",
    "        else: \n",
    "            co.append(c1[i])\n",
    "print(co)"
   ]
  },
  {
   "cell_type": "code",
   "execution_count": 128,
   "id": "0c1e511b",
   "metadata": {},
   "outputs": [
    {
     "name": "stdout",
     "output_type": "stream",
     "text": [
      "[1, 2, 3, 4, 5, 6, 7, 8, 9]\n"
     ]
    }
   ],
   "source": [
    "#23. Merge two lists.\n",
    "l1=[1,2,3,4,5,6]\n",
    "l2=[7,8,9]\n",
    "l1.extend(l2)\n",
    "print(l1)"
   ]
  },
  {
   "cell_type": "code",
   "execution_count": 138,
   "id": "31dae676",
   "metadata": {},
   "outputs": [
    {
     "data": {
      "text/plain": [
       "[2, 4, 6, 8, 10, 12, 14, 16, 18, 20]"
      ]
     },
     "execution_count": 138,
     "metadata": {},
     "output_type": "execute_result"
    }
   ],
   "source": [
    "# 24. Multiply all elements in a list by 2.\n",
    "l=[1,2,3,4,5,6,7,8,9,10]\n",
    "for i in range(0,len(l)):\n",
    "    l[i]=l[i]*2\n",
    "l"
   ]
  },
  {
   "cell_type": "code",
   "execution_count": 145,
   "id": "47ec049a",
   "metadata": {},
   "outputs": [
    {
     "name": "stdout",
     "output_type": "stream",
     "text": [
      "[80, 30, 47, 22, 63, 73, 70, 80, 70, 9]\n",
      "80\n",
      "30\n",
      "22\n",
      "70\n",
      "80\n",
      "70\n"
     ]
    }
   ],
   "source": [
    "# 25. Filter out all even numbers from a list.\n",
    "l=[]\n",
    "for i in range(10):\n",
    "    l.append(random.randint(1,100))\n",
    "print(l)\n",
    "for i in range(10):\n",
    "    if(l[i]%2==0):\n",
    "        print(l[i])\n",
    "    "
   ]
  },
  {
   "cell_type": "code",
   "execution_count": 155,
   "id": "4e158d18",
   "metadata": {},
   "outputs": [
    {
     "name": "stdout",
     "output_type": "stream",
     "text": [
      "<class 'int'>\n"
     ]
    }
   ],
   "source": [
    "# 26. Convert a list of strings to a list of integers.\n",
    "l=[1,2,3]\n",
    "for i in range(0,len(l)):\n",
    "    l[i]=int(l[i])\n",
    "print(type(l[1]))"
   ]
  },
  {
   "cell_type": "code",
   "execution_count": 156,
   "id": "a5ae586b",
   "metadata": {},
   "outputs": [
    {
     "name": "stdout",
     "output_type": "stream",
     "text": [
      "<class 'str'>\n"
     ]
    }
   ],
   "source": [
    "#27. Convert a list of integers to a list of strings.\n",
    "l=[1,2,3]\n",
    "for i in range(0,len(l)):\n",
    "    l[i]=str(l[i])\n",
    "print(type(l[1]))"
   ]
  },
  {
   "cell_type": "code",
   "execution_count": 202,
   "id": "9ed120d6",
   "metadata": {},
   "outputs": [
    {
     "name": "stdout",
     "output_type": "stream",
     "text": [
      "[1, 2, 3, 3, 4, 5, 6]\n"
     ]
    }
   ],
   "source": [
    "# 28. Flatten a nested list.\n",
    "l=[1,[2,3],[3,4,5],6]\n",
    "f=[]\n",
    "#print(type(f))\n",
    "for i in range(0,len(l)):\n",
    "    if type(l[i]) is list:\n",
    "        #print(type(l[i]),\"if\")\n",
    "        f.extend(l[i])\n",
    "    else:\n",
    "        #print(type(l[i]),\"else\")\n",
    "        f.append(l[i])\n",
    "print(f)\n",
    "#print(type(l[0]) is list)"
   ]
  },
  {
   "cell_type": "code",
   "execution_count": 280,
   "id": "bd8558b8",
   "metadata": {},
   "outputs": [
    {
     "data": {
      "text/plain": [
       "[0, 1, 1, 2, 3, 5, 8, 13, 21, 34, 55]"
      ]
     },
     "execution_count": 280,
     "metadata": {},
     "output_type": "execute_result"
    }
   ],
   "source": [
    "# 29. Create a list of the first 10 Fibonacci numbers\n",
    "l=[]\n",
    "n1,i=0,0\n",
    "n2=1\n",
    "while i<=10:\n",
    "    l.append(n1)\n",
    "    nth = n1 +n2\n",
    "    n1 = n2\n",
    "    n2 = nth\n",
    "    i=i+1\n",
    "l"
   ]
  },
  {
   "cell_type": "code",
   "execution_count": 266,
   "id": "8aaeba9e",
   "metadata": {},
   "outputs": [
    {
     "name": "stdout",
     "output_type": "stream",
     "text": [
      "NO\n"
     ]
    }
   ],
   "source": [
    "# 30. Check if a list is sorted.\n",
    "l=[1,4,3]\n",
    "temp=l.copy()\n",
    "l.sort()\n",
    "if l==temp:\n",
    "    print(\"Yes\")\n",
    "else:\n",
    "    print(\"NO\")"
   ]
  },
  {
   "cell_type": "code",
   "execution_count": 3,
   "id": "ac5799bb",
   "metadata": {},
   "outputs": [
    {
     "data": {
      "text/plain": [
       "[3, 4, 5, 1, 2]"
      ]
     },
     "execution_count": 3,
     "metadata": {},
     "output_type": "execute_result"
    }
   ],
   "source": [
    "# 31. Rotate a list to the left by `n` positions.\n",
    "n = 2\n",
    "l=[1,2,3,4,5]\n",
    "l=l[n:]+l[:n]\n",
    "l"
   ]
  },
  {
   "cell_type": "code",
   "execution_count": 16,
   "id": "88d0ab42",
   "metadata": {},
   "outputs": [
    {
     "name": "stdout",
     "output_type": "stream",
     "text": [
      "Enter the nth4\n"
     ]
    },
    {
     "data": {
      "text/plain": [
       "[2, 3, 4, 5, 1, 2, 3, 4]"
      ]
     },
     "execution_count": 16,
     "metadata": {},
     "output_type": "execute_result"
    }
   ],
   "source": [
    "# 32. Rotate a list to the right by `n` positions.\n",
    "l=[1,2,3,4,5]\n",
    "t=l.copy()\n",
    "n=int(input(\"Enter the nth\"))\n",
    "l=l[-n:]+l[:n+1]\n",
    "l[:len(t)]"
   ]
  },
  {
   "cell_type": "code",
   "execution_count": 153,
   "id": "b9cef082",
   "metadata": {},
   "outputs": [
    {
     "data": {
      "text/plain": [
       "[2, 3, 5, 7, 11, 13, 17, 19, 23, 29, 31, 37, 41, 43, 47]"
      ]
     },
     "execution_count": 153,
     "metadata": {},
     "output_type": "execute_result"
    }
   ],
   "source": [
    "# 33. Create a list of prime numbers up to 50.\n",
    "l=[]\n",
    "for i in range(2,51):\n",
    "    count=0\n",
    "    for j in range(2,i):\n",
    "        if(i%j==0):\n",
    "            count=+1\n",
    "    if count==0:\n",
    "        l.append(i)\n",
    "l"
   ]
  },
  {
   "cell_type": "code",
   "execution_count": 208,
   "id": "67fefc89",
   "metadata": {},
   "outputs": [
    {
     "name": "stdout",
     "output_type": "stream",
     "text": [
      "[1, 2]\n",
      "[3, 44]\n",
      "[5, 6]\n",
      "[7, 8]\n",
      "[9, 10]\n"
     ]
    }
   ],
   "source": [
    "# 34. Split a list into chunks of size `n`. \n",
    "l=[1,2,3,44,5,6,7,8,9,10]\n",
    "for i in range(0,len(l),2):\n",
    "    print(l[i:i+2])\n"
   ]
  },
  {
   "cell_type": "code",
   "execution_count": 251,
   "id": "86698e83",
   "metadata": {},
   "outputs": [
    {
     "name": "stdout",
     "output_type": "stream",
     "text": [
      "8\n"
     ]
    }
   ],
   "source": [
    "# 35. Find the second largest number in a list.\n",
    "l=[1,2,3,8,5,9,5]\n",
    "l.sort()\n",
    "print(l[-2])"
   ]
  },
  {
   "cell_type": "code",
   "execution_count": 255,
   "id": "b8559946",
   "metadata": {},
   "outputs": [
    {
     "data": {
      "text/plain": [
       "[1, 4, 9, 16, 25, 36, 49, 64, 81, 100]"
      ]
     },
     "execution_count": 255,
     "metadata": {},
     "output_type": "execute_result"
    }
   ],
   "source": [
    "# 36. Replace every element in a list with its square.\n",
    "l=[1,2,3,4,5,6,7,8,9,10]\n",
    "for i in range(len(l)):\n",
    "    l[i]=l[i]**2\n",
    "l"
   ]
  },
  {
   "cell_type": "code",
   "execution_count": 307,
   "id": "ebe04ba9",
   "metadata": {},
   "outputs": [
    {
     "data": {
      "text/plain": [
       "{5: 4, 1: 0, 2: 1, 3: 2, 4: 3}"
      ]
     },
     "execution_count": 307,
     "metadata": {},
     "output_type": "execute_result"
    }
   ],
   "source": [
    "# 37. Convert a list to a dictionary where list elements become keys and their indices become values.\n",
    "l=[1,2,3,4,5]\n",
    "for i in l:\n",
    "    d.update({i:l.index(i)})\n",
    "d"
   ]
  },
  {
   "cell_type": "code",
   "execution_count": 304,
   "id": "d576e24f",
   "metadata": {},
   "outputs": [
    {
     "data": {
      "text/plain": [
       "[5, 4, 2, 3, 1]"
      ]
     },
     "execution_count": 304,
     "metadata": {},
     "output_type": "execute_result"
    }
   ],
   "source": [
    "# 38. Shuffle the elements of a list randomly.\n",
    "\n",
    "l=[1,2,3,4,5]\n",
    "random.shuffle(l)\n",
    "l"
   ]
  },
  {
   "cell_type": "code",
   "execution_count": 302,
   "id": "2e23fa02",
   "metadata": {},
   "outputs": [
    {
     "data": {
      "text/plain": [
       "[1, 2, 6, 24, 120, 720, 5040, 40320, 362880, 3628800]"
      ]
     },
     "execution_count": 302,
     "metadata": {},
     "output_type": "execute_result"
    }
   ],
   "source": [
    "# 39. Create a list of the first 10 factorial numbers.\n",
    "\n",
    "l=[]\n",
    "for i in range(1,11):\n",
    "    fab=1\n",
    "    for j in range(1,i+1):\n",
    "        fab=fab*j\n",
    "    l.append(fab)\n",
    "l"
   ]
  },
  {
   "cell_type": "code",
   "execution_count": 262,
   "id": "4917e960",
   "metadata": {},
   "outputs": [
    {
     "name": "stdout",
     "output_type": "stream",
     "text": [
      "Yes common element\n"
     ]
    }
   ],
   "source": [
    "# 40. Check if two lists have at least one element in common.\n",
    "l=[1,2,3,4,5,6,7,8]\n",
    "l2=[0,0,'a','e',8]\n",
    "count=0\n",
    "for i in l2:\n",
    "    if i in l:\n",
    "        count=+1\n",
    "if count==0:\n",
    "    print(\"NO common element\")\n",
    "else:\n",
    "    print(\"Yes common element\")\n",
    "    "
   ]
  },
  {
   "cell_type": "code",
   "execution_count": 239,
   "id": "902d82a1",
   "metadata": {},
   "outputs": [
    {
     "name": "stdout",
     "output_type": "stream",
     "text": [
      "[]\n"
     ]
    }
   ],
   "source": [
    "#41. Remove all elements from a list.\n",
    "l=[1,2,3,4]\n",
    "l.clear()\n",
    "print(l)"
   ]
  },
  {
   "cell_type": "code",
   "execution_count": 299,
   "id": "d2b12fad",
   "metadata": {},
   "outputs": [
    {
     "data": {
      "text/plain": [
       "[1, 0, 2, 0, 0]"
      ]
     },
     "execution_count": 299,
     "metadata": {},
     "output_type": "execute_result"
    }
   ],
   "source": [
    "# 42. Replace negative numbers in a list with 0.\n",
    "l=[1,-1,2,-3,0]\n",
    "for i in l:\n",
    "    if i<=0:\n",
    "        l[l.index(i)]=0\n",
    "l\n"
   ]
  },
  {
   "cell_type": "code",
   "execution_count": 298,
   "id": "073496ca",
   "metadata": {},
   "outputs": [
    {
     "data": {
      "text/plain": [
       "['My', 'name', 'is', 'Abhishek', 'Ojha']"
      ]
     },
     "execution_count": 298,
     "metadata": {},
     "output_type": "execute_result"
    }
   ],
   "source": [
    "# 43. Convert a string into a list of words.\n",
    "s=\"My name is Abhishek Ojha\"\n",
    "l=list(s.split())\n",
    "l"
   ]
  },
  {
   "cell_type": "code",
   "execution_count": 288,
   "id": "105fba3e",
   "metadata": {},
   "outputs": [
    {
     "name": "stdout",
     "output_type": "stream",
     "text": [
      "az ab a cba\n"
     ]
    }
   ],
   "source": [
    "# 44. Convert a list of words into a string.\n",
    "l=[\"az\",'ab','a','cba']\n",
    "print(\" \".join(l))"
   ]
  },
  {
   "cell_type": "code",
   "execution_count": 297,
   "id": "b46a3cdc",
   "metadata": {},
   "outputs": [
    {
     "name": "stdout",
     "output_type": "stream",
     "text": [
      "Enter the nth nuber5\n",
      "[1, 4, 9, 16, 25]\n"
     ]
    }
   ],
   "source": [
    "# 45. Create a list of the first `n` powers of 2.\n",
    "n=int(input(\"Enter the nth nuber\"))\n",
    "l=[]\n",
    "for i in range(1,n+1):\n",
    "    l.append(i**2)\n",
    "print(l)"
   ]
  },
  {
   "cell_type": "code",
   "execution_count": 283,
   "id": "234e7372",
   "metadata": {},
   "outputs": [
    {
     "name": "stdout",
     "output_type": "stream",
     "text": [
      "cba\n"
     ]
    }
   ],
   "source": [
    "# 46. Find the longest string in a list of strings.\n",
    "l=[\"az\",'ab','a','cba']\n",
    "l.sort(reverse=True)\n",
    "print(l[0])"
   ]
  },
  {
   "cell_type": "code",
   "execution_count": 281,
   "id": "2638d581",
   "metadata": {},
   "outputs": [
    {
     "name": "stdout",
     "output_type": "stream",
     "text": [
      "a\n"
     ]
    }
   ],
   "source": [
    "#47. Find the shortest string in a list of strings.\n",
    "l=[\"az\",'ab','a','cba']\n",
    "l.sort(reverse=True)\n",
    "print(l[-1])"
   ]
  },
  {
   "cell_type": "code",
   "execution_count": 295,
   "id": "04d32f63",
   "metadata": {},
   "outputs": [
    {
     "name": "stdout",
     "output_type": "stream",
     "text": [
      "Enter the nth nuber5\n",
      "[1, 3, 6, 10, 15]\n"
     ]
    }
   ],
   "source": [
    "# 48. Create a list of the first `n` triangular numbers.\n",
    "n=int(input(\"Enter the nth nuber\"))\n",
    "l=[]\n",
    "sum=0\n",
    "for i in range(1,n+1):\n",
    "    sum=sum+i\n",
    "    l.append(sum)\n",
    "print(l)"
   ]
  },
  {
   "cell_type": "code",
   "execution_count": 292,
   "id": "dfa9dc7d",
   "metadata": {},
   "outputs": [
    {
     "name": "stdout",
     "output_type": "stream",
     "text": [
      "NO lis\n"
     ]
    }
   ],
   "source": [
    "# 49. Check if a list contains another list as a subsequence.\n",
    "l=[1,[1,2],3]\n",
    "count=0\n",
    "for i in range(len(l)):\n",
    "    if type(l[i]) is list:\n",
    "        count=+1\n",
    "if count==0:\n",
    "    print(\"NO list\")\n",
    "else:\n",
    "    print(\"Yes it contain list\")\n",
    "    \n",
    "    "
   ]
  },
  {
   "cell_type": "code",
   "execution_count": 290,
   "id": "5b6ec821",
   "metadata": {},
   "outputs": [
    {
     "name": "stdout",
     "output_type": "stream",
     "text": [
      "[2, 1, 3, 4, 5]\n"
     ]
    }
   ],
   "source": [
    "# 50. Swap two elements in a list by their indices.\n",
    "l=[1,2,3,4,5]\n",
    "l[0]=l[0]+l[1]\n",
    "l[1]=l[0]-l[1]\n",
    "l[0]=l[0]-l[1]\n",
    "print(l)"
   ]
  },
  {
   "cell_type": "markdown",
   "id": "cb8f7e7e",
   "metadata": {},
   "source": [
    "#  Tuple Based Practice Problem :"
   ]
  },
  {
   "cell_type": "code",
   "execution_count": 103,
   "id": "77e1d0b2",
   "metadata": {},
   "outputs": [
    {
     "name": "stdout",
     "output_type": "stream",
     "text": [
      "<class 'tuple'>\n",
      "(1, 2, 3, 4, 5)\n"
     ]
    }
   ],
   "source": [
    "# 1. Create a tuple with integers from 1 to 5.\n",
    "t=(1,2,3,4,5)\n",
    "print(type(t))\n",
    "print(t)"
   ]
  },
  {
   "cell_type": "code",
   "execution_count": 105,
   "id": "63ab6bee",
   "metadata": {},
   "outputs": [
    {
     "name": "stdout",
     "output_type": "stream",
     "text": [
      "3\n"
     ]
    }
   ],
   "source": [
    "# 2. Access the third element of a tuple.\n",
    "t=(1,2,3,4,5)\n",
    "print(list(t)[2])"
   ]
  },
  {
   "cell_type": "code",
   "execution_count": 106,
   "id": "e145c875",
   "metadata": {},
   "outputs": [
    {
     "data": {
      "text/plain": [
       "5"
      ]
     },
     "execution_count": 106,
     "metadata": {},
     "output_type": "execute_result"
    }
   ],
   "source": [
    "# 3. Find the length of a tuple without using the `len()` function.\n",
    "t=(1,2,3,4,5)\n",
    "count=0\n",
    "for i in t:\n",
    "    count=count+1\n",
    "count"
   ]
  },
  {
   "cell_type": "code",
   "execution_count": 116,
   "id": "f9ded091",
   "metadata": {},
   "outputs": [
    {
     "name": "stdout",
     "output_type": "stream",
     "text": [
      "Enter the element3\n",
      "2\n"
     ]
    }
   ],
   "source": [
    "#4. Count the occurrences of an element in a tuple.\n",
    "t=(1,2,3,4,5,6,7,8,9,22,1,3,4,56)\n",
    "co=int(input(\"Enter the element\"))\n",
    "print(t.count(co))"
   ]
  },
  {
   "cell_type": "code",
   "execution_count": 122,
   "id": "3aeb5d4f",
   "metadata": {},
   "outputs": [
    {
     "name": "stdout",
     "output_type": "stream",
     "text": [
      "Enter the element3\n",
      "2\n"
     ]
    }
   ],
   "source": [
    "#5. Find the index of the first occurrence of an element in a tuple.\n",
    "t=(1,2,3,4,5,6,7,8,9,22,1,3,4,56)\n",
    "co=int(input(\"Enter the element\"))\n",
    "print(t.index(co))\n"
   ]
  },
  {
   "cell_type": "code",
   "execution_count": 113,
   "id": "aa24cef6",
   "metadata": {},
   "outputs": [
    {
     "name": "stdout",
     "output_type": "stream",
     "text": [
      "Entere the check element2\n",
      "Yes\n"
     ]
    }
   ],
   "source": [
    "# 6. Check if an element exists in a tuple.\n",
    "t=(1,2,3,4,5)\n",
    "c=int(input(\"Entere the check element\"))\n",
    "if c in t:\n",
    "    print(\"Yes\")\n",
    "else:\n",
    "    print(\"No\") "
   ]
  },
  {
   "cell_type": "code",
   "execution_count": 112,
   "id": "82dbd174",
   "metadata": {},
   "outputs": [
    {
     "name": "stdout",
     "output_type": "stream",
     "text": [
      "<class 'list'>\n"
     ]
    },
    {
     "data": {
      "text/plain": [
       "[1, 2, 3, 4, 5]"
      ]
     },
     "execution_count": 112,
     "metadata": {},
     "output_type": "execute_result"
    }
   ],
   "source": [
    "# 7. Convert a tuple to a list.\n",
    "t=(1,2,3,4,5)\n",
    "l=list(t)\n",
    "print(type(l))\n",
    "l"
   ]
  },
  {
   "cell_type": "code",
   "execution_count": 114,
   "id": "8c4710ab",
   "metadata": {},
   "outputs": [
    {
     "name": "stdout",
     "output_type": "stream",
     "text": [
      "<class 'tuple'>\n",
      "(1, 2, 3, 4, 5)\n"
     ]
    }
   ],
   "source": [
    "#8. Convert a list to a tuple.\n",
    "l=[1,2,3,4,5]\n",
    "t=tuple(l)\n",
    "print(type(t))\n",
    "print(t)"
   ]
  },
  {
   "cell_type": "code",
   "execution_count": 132,
   "id": "da90fade",
   "metadata": {},
   "outputs": [
    {
     "name": "stdout",
     "output_type": "stream",
     "text": [
      "Abhishke\n",
      "20\n",
      "BCA\n",
      "1\n",
      "[2, 3, 4, 5, 6, 7, 8]\n",
      "9\n"
     ]
    }
   ],
   "source": [
    "#9. Unpack the elements of a tuple into variables.\n",
    "t=(\"Abhishke\",\"20\",\"BCA\")\n",
    "# In right hand side is packing and left hand side is unpacking\n",
    "(Name,age,Course)=t\n",
    "print(Name)\n",
    "print(age)\n",
    "print(Course)\n",
    "\n",
    "# Another way do that\n",
    "t=[1,2,3,4,5,6,7,8,9]\n",
    "# that means a and c hold only 1 elemt but *b are hold all left element in tuple\n",
    "(a,*b,c)=t\n",
    "print(a)\n",
    "print(b)\n",
    "print(c)"
   ]
  },
  {
   "cell_type": "code",
   "execution_count": 127,
   "id": "64a5a31c",
   "metadata": {},
   "outputs": [
    {
     "name": "stdout",
     "output_type": "stream",
     "text": [
      "(2, 4, 6, 8, 10)\n"
     ]
    }
   ],
   "source": [
    "# 10. Create a tuple of even numbers from 1 to 10.\n",
    "l=[]\n",
    "for i in range(2,11):\n",
    "    if(i%2==0):\n",
    "        l.append(i)\n",
    "print(tuple(l))"
   ]
  },
  {
   "cell_type": "code",
   "execution_count": 128,
   "id": "b3a1d7ee",
   "metadata": {},
   "outputs": [
    {
     "name": "stdout",
     "output_type": "stream",
     "text": [
      "(1, 3, 5, 7, 9)\n"
     ]
    }
   ],
   "source": [
    "#11. Create a tuple of odd numbers from 1 to 10.\n",
    "l=[]\n",
    "for i in range(1,11):\n",
    "    if(i%2!=0):\n",
    "        l.append(i)\n",
    "print(tuple(l))"
   ]
  },
  {
   "cell_type": "code",
   "execution_count": 158,
   "id": "b41a3370",
   "metadata": {},
   "outputs": [
    {
     "name": "stdout",
     "output_type": "stream",
     "text": [
      "(1, 2, 3, 4, 5)\n"
     ]
    }
   ],
   "source": [
    "#12. Concatenate two tuples.\n",
    "t=(1,2,3)\n",
    "t2=(4,5)\n",
    "print(t+t2)\n"
   ]
  },
  {
   "cell_type": "code",
   "execution_count": 159,
   "id": "590b6ed1",
   "metadata": {},
   "outputs": [
    {
     "name": "stdout",
     "output_type": "stream",
     "text": [
      "(1, 2, 3, 4, 5, 1, 2, 3, 4, 5, 1, 2, 3, 4, 5)\n"
     ]
    }
   ],
   "source": [
    "# 13. Repeat a tuple three times.\n",
    "t=(1,2,3,4,5)\n",
    "print(t*3)"
   ]
  },
  {
   "cell_type": "code",
   "execution_count": 169,
   "id": "fc81e4dd",
   "metadata": {},
   "outputs": [
    {
     "name": "stdout",
     "output_type": "stream",
     "text": [
      "<class 'str'>\n",
      "Not Empty\n"
     ]
    }
   ],
   "source": [
    "#14. Check if a tuple is empty.\n",
    "t=(1,2)\n",
    "print(type(t))\n",
    "if len(t)==0:\n",
    "    print(\"Empty\")\n",
    "else:\n",
    "    print(\"Not Empty\")"
   ]
  },
  {
   "cell_type": "code",
   "execution_count": 171,
   "id": "63b937a4",
   "metadata": {},
   "outputs": [
    {
     "name": "stdout",
     "output_type": "stream",
     "text": [
      "(1, 2, (3, 4))\n",
      "<class 'tuple'>\n"
     ]
    }
   ],
   "source": [
    "# 15. Create a nested tuple.\n",
    "t=(1,2,(3,4))\n",
    "print(t)\n",
    "print(type(t))"
   ]
  },
  {
   "cell_type": "code",
   "execution_count": 178,
   "id": "686b9b5d",
   "metadata": {},
   "outputs": [
    {
     "name": "stdout",
     "output_type": "stream",
     "text": [
      "4\n"
     ]
    }
   ],
   "source": [
    "#16. Access the first element of a nested tuple.\n",
    "t=[1,2,[3,4],5]\n",
    "l=list(t)\n",
    "print(l[2][1])"
   ]
  },
  {
   "cell_type": "code",
   "execution_count": 175,
   "id": "d3129600",
   "metadata": {},
   "outputs": [
    {
     "name": "stdout",
     "output_type": "stream",
     "text": [
      "<class 'tuple'>\n"
     ]
    }
   ],
   "source": [
    "#17. Create a tuple with a single element.\n",
    "t=tuple('1')\n",
    "print(type(t))"
   ]
  },
  {
   "cell_type": "code",
   "execution_count": 177,
   "id": "104338fb",
   "metadata": {},
   "outputs": [
    {
     "name": "stdout",
     "output_type": "stream",
     "text": [
      "Equal\n"
     ]
    }
   ],
   "source": [
    "#18. Compare two tuples.\n",
    "t=[1,2,3,4,5]\n",
    "t1=[1,2,3,4,5]\n",
    "if t==t1:\n",
    "    print(\"Equal\")\n",
    "else:\n",
    "    print(\"Not Equal\")\n"
   ]
  },
  {
   "cell_type": "code",
   "execution_count": 182,
   "id": "24fdbc15",
   "metadata": {},
   "outputs": [
    {
     "ename": "NameError",
     "evalue": "name 't' is not defined",
     "output_type": "error",
     "traceback": [
      "\u001b[0;31m---------------------------------------------------------------------------\u001b[0m",
      "\u001b[0;31mNameError\u001b[0m                                 Traceback (most recent call last)",
      "Input \u001b[0;32mIn [182]\u001b[0m, in \u001b[0;36m<cell line: 4>\u001b[0;34m()\u001b[0m\n\u001b[1;32m      2\u001b[0m t\u001b[38;5;241m=\u001b[39m(\u001b[38;5;241m1\u001b[39m,\u001b[38;5;241m2\u001b[39m,\u001b[38;5;241m3\u001b[39m,\u001b[38;5;241m4\u001b[39m,\u001b[38;5;241m5\u001b[39m)\n\u001b[1;32m      3\u001b[0m \u001b[38;5;28;01mdel\u001b[39;00m t\n\u001b[0;32m----> 4\u001b[0m \u001b[38;5;28mprint\u001b[39m(\u001b[43mt\u001b[49m)\n",
      "\u001b[0;31mNameError\u001b[0m: name 't' is not defined"
     ]
    }
   ],
   "source": [
    "#19. Delete a tuple.\n",
    "t=(1,2,3,4,5)\n",
    "del t\n",
    "print(t)"
   ]
  },
  {
   "cell_type": "code",
   "execution_count": 184,
   "id": "2dc42c8b",
   "metadata": {},
   "outputs": [
    {
     "name": "stdout",
     "output_type": "stream",
     "text": [
      "1\n",
      "2\n",
      "3\n",
      "4\n",
      "5\n"
     ]
    }
   ],
   "source": [
    "#20. Slice a tuple.\n",
    "t=(1,2,3,4,5)\n",
    "for i in range(len(t)):\n",
    "    print(t[i])"
   ]
  },
  {
   "cell_type": "code",
   "execution_count": 185,
   "id": "de0c26a7",
   "metadata": {},
   "outputs": [
    {
     "name": "stdout",
     "output_type": "stream",
     "text": [
      "5\n"
     ]
    }
   ],
   "source": [
    "#21. Find the maximum value in a tuple.\n",
    "t=(1,2,3,4,5)\n",
    "print(max(t))"
   ]
  },
  {
   "cell_type": "code",
   "execution_count": 186,
   "id": "a3c25db0",
   "metadata": {},
   "outputs": [
    {
     "name": "stdout",
     "output_type": "stream",
     "text": [
      "1\n"
     ]
    }
   ],
   "source": [
    "#22. Find the minimum value in a tuple.\n",
    "t=(1,2,3,4,5)\n",
    "print(min(t))"
   ]
  },
  {
   "cell_type": "code",
   "execution_count": 194,
   "id": "2b595394",
   "metadata": {},
   "outputs": [
    {
     "name": "stdout",
     "output_type": "stream",
     "text": [
      "<class 'tuple'>\n",
      "('M', 'y', ' ', 'n', 'a', 'm', 'e', ' ', 'i', 's', ' ', 'A', 'b', 'h', 'i', 's', 'h', 'e', 'k', ' ', 'O', 'j', 'h', 'a')\n"
     ]
    }
   ],
   "source": [
    "#23. Convert a string to a tuple of characters.\n",
    "str=\"My name is Abhishek Ojha\"\n",
    "t=tuple(str)\n",
    "print(type(t))\n",
    "print(t)"
   ]
  },
  {
   "cell_type": "code",
   "execution_count": 228,
   "id": "747857ae",
   "metadata": {},
   "outputs": [
    {
     "name": "stdout",
     "output_type": "stream",
     "text": [
      "My name is Abhishek Ojha\n"
     ]
    }
   ],
   "source": [
    "#24. Convert a tuple of characters to a string.\n",
    "st=\"My name is Abhishek Ojha\"\n",
    "t=tuple(st)\n",
    "print(\"\".join(t))"
   ]
  },
  {
   "cell_type": "code",
   "execution_count": 199,
   "id": "faa04ad7",
   "metadata": {},
   "outputs": [
    {
     "name": "stdout",
     "output_type": "stream",
     "text": [
      "<class 'tuple'>\n",
      "<class 'tuple'>\n"
     ]
    }
   ],
   "source": [
    "#25. Create a tuple from multiple data types.\n",
    "l=[1,2,3]\n",
    "s=\"Abhsihke\"\n",
    "t=tuple(l)\n",
    "t1=tuple(s)\n",
    "print(type(t))\n",
    "print(type(t1))"
   ]
  },
  {
   "cell_type": "code",
   "execution_count": 202,
   "id": "afce22d1",
   "metadata": {},
   "outputs": [
    {
     "name": "stdout",
     "output_type": "stream",
     "text": [
      "t and t1 is identical\n",
      "t and t3 are not identical\n"
     ]
    }
   ],
   "source": [
    "#26. Check if two tuples are identical.\n",
    "t=(1,2,3,4,5)\n",
    "t1=(1,2,3,4,5)\n",
    "t3=(1,2,3,5,4)\n",
    "if t1==t:\n",
    "    print(\"t and t1 is identical\")\n",
    "else:\n",
    "    print(\"t and t1 are not identical\")\n",
    "if t==t3:\n",
    "    print(\"t and t3 are identical\")\n",
    "else:\n",
    "    print(\"t and t3 are not identical\")"
   ]
  },
  {
   "cell_type": "code",
   "execution_count": 201,
   "id": "39c21048",
   "metadata": {},
   "outputs": [
    {
     "name": "stdout",
     "output_type": "stream",
     "text": [
      "[1, 1, 2, 2, 3, 3, 4, 5]\n"
     ]
    }
   ],
   "source": [
    "#27. Sort the elements of a tuple.\n",
    "t=(1,2,3,4,5,1,2,3)\n",
    "l=list(t)\n",
    "l.sort()\n",
    "t1=l\n",
    "print(t1)"
   ]
  },
  {
   "cell_type": "code",
   "execution_count": 232,
   "id": "6116e0d2",
   "metadata": {},
   "outputs": [],
   "source": [
    "#28. Convert a tuple of integers to a tuple of strings.\n",
    "a = ( \"aty\",3,\"bob\",5,6)\n",
    "a=tuple(map( str, a ) )\n",
    "print(a)"
   ]
  },
  {
   "cell_type": "code",
   "execution_count": 233,
   "id": "30b8ca56",
   "metadata": {},
   "outputs": [
    {
     "name": "stdout",
     "output_type": "stream",
     "text": [
      "(1, 2)\n"
     ]
    }
   ],
   "source": [
    "#29. Convert a tuple of strings to a tuple of integers.\n",
    "a=('1','2')\n",
    "a=tuple(map(int,a))\n",
    "print(a)"
   ]
  },
  {
   "cell_type": "code",
   "execution_count": 203,
   "id": "4b3dcbf3",
   "metadata": {},
   "outputs": [
    {
     "name": "stdout",
     "output_type": "stream",
     "text": [
      "(1, 2, 3, 4, 5)\n"
     ]
    }
   ],
   "source": [
    "#30. Merge two tuples.\n",
    "t=(1,2,3)\n",
    "t1=(4,5)\n",
    "t2=t+t1\n",
    "print(t2)"
   ]
  },
  {
   "cell_type": "code",
   "execution_count": 242,
   "id": "3a6353ef",
   "metadata": {},
   "outputs": [
    {
     "name": "stdout",
     "output_type": "stream",
     "text": [
      "[1, 2, 3, 4, 5]\n"
     ]
    }
   ],
   "source": [
    "#31. Flatten a nested tuple.\n",
    "t=(1,2,(3,4),5)\n",
    "l=list(t)\n",
    "l1=[]\n",
    "for i in range(len(t)):\n",
    "    if type(l[i])== tuple:\n",
    "        l1.extend(l[i])\n",
    "    else:\n",
    "        l1.append(l[i])\n",
    "print(l1)"
   ]
  },
  {
   "cell_type": "code",
   "execution_count": 247,
   "id": "75e61997",
   "metadata": {},
   "outputs": [
    {
     "name": "stdout",
     "output_type": "stream",
     "text": [
      "(2, 3, 5)\n"
     ]
    }
   ],
   "source": [
    "#32. Create a tuple of the first 5 prime numbers.\n",
    "l=[]\n",
    "for i in range(2,6):\n",
    "    count=0\n",
    "    for j in range(2,i):\n",
    "        if i%j==0:\n",
    "            count=+1\n",
    "    if count==0:\n",
    "        l.append(i)\n",
    "t=tuple(l)\n",
    "print(t)"
   ]
  },
  {
   "cell_type": "code",
   "execution_count": 258,
   "id": "4e01e497",
   "metadata": {},
   "outputs": [
    {
     "name": "stdout",
     "output_type": "stream",
     "text": [
      "True\n"
     ]
    }
   ],
   "source": [
    "#33. Check if a tuple is a palindrome.\n",
    "t=(1,2,1)\n",
    "l=list(t)\n",
    "l.reverse()\n",
    "t1=tuple(l)\n",
    "print(t1==t)\n"
   ]
  },
  {
   "cell_type": "code",
   "execution_count": 262,
   "id": "791e171d",
   "metadata": {},
   "outputs": [
    {
     "name": "stdout",
     "output_type": "stream",
     "text": [
      "(1, 4, 9, 16, 25)\n"
     ]
    }
   ],
   "source": [
    "#34. Create a tuple of squares of numbers from 1 to 5.\n",
    "tup = ()\n",
    "for i in range(1,6):\n",
    "    tup = tup + (i**2,)\n",
    "# In concatinate function only same data type conacte\n",
    "print(tup)"
   ]
  },
  {
   "cell_type": "code",
   "execution_count": 265,
   "id": "d59398d1",
   "metadata": {},
   "outputs": [
    {
     "data": {
      "text/plain": [
       "[2, 4]"
      ]
     },
     "execution_count": 265,
     "metadata": {},
     "output_type": "execute_result"
    }
   ],
   "source": [
    "#35. Filter out all even numbers from a tuple.\n",
    "t=(1,2,3,4,5)\n",
    "l=list(t)\n",
    "l1=[]\n",
    "for i in l:\n",
    "    if(i%2==0):\n",
    "        l1.append(i)\n",
    "l1"
   ]
  },
  {
   "cell_type": "code",
   "execution_count": 266,
   "id": "a6df5daf",
   "metadata": {},
   "outputs": [
    {
     "data": {
      "text/plain": [
       "(2, 4, 6)"
      ]
     },
     "execution_count": 266,
     "metadata": {},
     "output_type": "execute_result"
    }
   ],
   "source": [
    "#36. Multiply all elements in a tuple by 2.\n",
    "t=[1,2,3]\n",
    "l=list(t)\n",
    "l1=[]\n",
    "for i in l:\n",
    "    l1.append(i*2)\n",
    "t1=tuple(l1)\n",
    "t1"
   ]
  },
  {
   "cell_type": "code",
   "execution_count": 272,
   "id": "e09ddeaf",
   "metadata": {},
   "outputs": [
    {
     "name": "stdout",
     "output_type": "stream",
     "text": [
      "How many number in the tuple5\n",
      "(7, 62, 82, 90, 19)\n"
     ]
    }
   ],
   "source": [
    "#37. Create a tuple of random numbers.\n",
    "import random\n",
    "t=()\n",
    "n=int(input(\"How many number in the tuple\"))\n",
    "for i in range(n):\n",
    "    t=t+(random.randint(1,100),)\n",
    "print(t)"
   ]
  },
  {
   "cell_type": "code",
   "execution_count": 277,
   "id": "15cf237b",
   "metadata": {},
   "outputs": [
    {
     "name": "stdout",
     "output_type": "stream",
     "text": [
      "No sorted\n"
     ]
    }
   ],
   "source": [
    "#38. Check if a tuple is sorted.\n",
    "t=(1,2,3,4,5,1)\n",
    "l=list(t)\n",
    "l.sort()\n",
    "t1=tuple(l)\n",
    "if(t==t1):\n",
    "    print(\"Yes, sorted\")\n",
    "else:\n",
    "    print(\"No sorted\")"
   ]
  },
  {
   "cell_type": "code",
   "execution_count": 17,
   "id": "5bc12bf2",
   "metadata": {},
   "outputs": [
    {
     "name": "stdout",
     "output_type": "stream",
     "text": [
      "Enter the nth2\n"
     ]
    },
    {
     "data": {
      "text/plain": [
       "(3, 4, 5, 1, 2)"
      ]
     },
     "execution_count": 17,
     "metadata": {},
     "output_type": "execute_result"
    }
   ],
   "source": [
    "#39. Rotate a tuple to the left by `n` positions.\n",
    "n=int(input(\"Enter the nth\"))\n",
    "t=(1,2,3,4,5)\n",
    "t=t[n:]+t[:n]\n",
    "t"
   ]
  },
  {
   "cell_type": "code",
   "execution_count": 20,
   "id": "f3ba85f4",
   "metadata": {},
   "outputs": [
    {
     "name": "stdout",
     "output_type": "stream",
     "text": [
      "Enter the nth2\n"
     ]
    },
    {
     "data": {
      "text/plain": [
       "(4, 5, 1, 2, 3)"
      ]
     },
     "execution_count": 20,
     "metadata": {},
     "output_type": "execute_result"
    }
   ],
   "source": [
    "#40. Rotate a tuple to the right by `n` positions.\n",
    "n=int(input(\"Enter the nth\"))\n",
    "t=(1,2,3,4,5)\n",
    "t=t[-n:]+t[:n+1]\n",
    "t"
   ]
  },
  {
   "cell_type": "code",
   "execution_count": 284,
   "id": "802771bc",
   "metadata": {},
   "outputs": [
    {
     "data": {
      "text/plain": [
       "(0, 1, 1, 2, 3, 5)"
      ]
     },
     "execution_count": 284,
     "metadata": {},
     "output_type": "execute_result"
    }
   ],
   "source": [
    "#41. Create a tuple of the first 5 Fibonacci numbers.\n",
    "t=()\n",
    "n=0\n",
    "n1=1\n",
    "i=0\n",
    "while i<=5:\n",
    "    t=t+(n,)\n",
    "    nth=n+n1\n",
    "    n=n1\n",
    "    n1=nth\n",
    "    i=i+1\n",
    "t"
   ]
  },
  {
   "cell_type": "code",
   "execution_count": 286,
   "id": "aedf6e22",
   "metadata": {},
   "outputs": [
    {
     "name": "stdout",
     "output_type": "stream",
     "text": [
      "Enter the len of the tuple5\n",
      "Enter the element 1\n",
      "Enter the element 2\n",
      "Enter the element 3\n",
      "Enter the element 4\n",
      "Enter the element 5\n"
     ]
    },
    {
     "data": {
      "text/plain": [
       "('1', '2', '3', '4', '5')"
      ]
     },
     "execution_count": 286,
     "metadata": {},
     "output_type": "execute_result"
    }
   ],
   "source": [
    "#42. Create a tuple from user input.\n",
    "t=()\n",
    "n=int(input(\"Enter the len of the tuple\"))\n",
    "for i in range(n):\n",
    "    temp=input(\"Enter the element \")\n",
    "    t=t+(temp,)\n",
    "t"
   ]
  },
  {
   "cell_type": "code",
   "execution_count": 306,
   "id": "2ac6fe56",
   "metadata": {},
   "outputs": [
    {
     "data": {
      "text/plain": [
       "(2, 1, 3, 4, 5)"
      ]
     },
     "execution_count": 306,
     "metadata": {},
     "output_type": "execute_result"
    }
   ],
   "source": [
    "#43. Swap two elements in a tuple.\n",
    "t=(1,2,3,4,5)\n",
    "l=list(t)\n",
    "l[0],l[1]=l[1],l[0]\n",
    "t1=tuple(l)\n",
    "t1"
   ]
  },
  {
   "cell_type": "code",
   "execution_count": 294,
   "id": "63712547",
   "metadata": {},
   "outputs": [
    {
     "data": {
      "text/plain": [
       "(5, 4, 3, 2, 1)"
      ]
     },
     "execution_count": 294,
     "metadata": {},
     "output_type": "execute_result"
    }
   ],
   "source": [
    "#44. Reverse the elements of a tuple.\n",
    "t=(1,2,3,4,5)\n",
    "l=list(t)\n",
    "l.reverse()\n",
    "t=tuple(l)\n",
    "t"
   ]
  },
  {
   "cell_type": "code",
   "execution_count": 295,
   "id": "4a4ac187",
   "metadata": {},
   "outputs": [
    {
     "name": "stdout",
     "output_type": "stream",
     "text": [
      "Enter the number5\n"
     ]
    },
    {
     "data": {
      "text/plain": [
       "(1, 4, 9, 16, 25)"
      ]
     },
     "execution_count": 295,
     "metadata": {},
     "output_type": "execute_result"
    }
   ],
   "source": [
    "#45. Create a tuple of the first `n` powers of 2.\n",
    "t=()\n",
    "n=int(input(\"Enter the number\"))\n",
    "for i in range(1,n+1):\n",
    "    t=t+(i**2,)\n",
    "t"
   ]
  },
  {
   "cell_type": "code",
   "execution_count": 289,
   "id": "fce6f508",
   "metadata": {},
   "outputs": [
    {
     "name": "stdout",
     "output_type": "stream",
     "text": [
      "aaa\n"
     ]
    }
   ],
   "source": [
    "#46. Find the longest string in a tuple of strings.\n",
    "t=('a','aaa','aa')\n",
    "print(max(t))"
   ]
  },
  {
   "cell_type": "code",
   "execution_count": 291,
   "id": "2e544b09",
   "metadata": {},
   "outputs": [
    {
     "name": "stdout",
     "output_type": "stream",
     "text": [
      "a\n"
     ]
    }
   ],
   "source": [
    "#47. Find the shortest string in a tuple of strings.\n",
    "t=('a','aaa','aa')\n",
    "print(min(t))"
   ]
  },
  {
   "cell_type": "code",
   "execution_count": 297,
   "id": "e5261c5c",
   "metadata": {},
   "outputs": [
    {
     "name": "stdout",
     "output_type": "stream",
     "text": [
      "Ente the number 5\n"
     ]
    },
    {
     "data": {
      "text/plain": [
       "(1, 3, 6, 10, 15)"
      ]
     },
     "execution_count": 297,
     "metadata": {},
     "output_type": "execute_result"
    }
   ],
   "source": [
    "#48. Create a tuple of the first `n` triangular numbers.\n",
    "sum=0\n",
    "t=()\n",
    "n=int(input(\"Ente the number \"))\n",
    "for i in range(1,n+1):\n",
    "    sum=sum+i\n",
    "    t=t+(sum,)\n",
    "t"
   ]
  },
  {
   "cell_type": "code",
   "execution_count": 301,
   "id": "af74ab91",
   "metadata": {},
   "outputs": [
    {
     "name": "stdout",
     "output_type": "stream",
     "text": [
      "Yes, tuple in tuple\n"
     ]
    }
   ],
   "source": [
    "#49. Check if a tuple contains another tuple as a subsequence.\n",
    "t=(1,(2,3),4)\n",
    "l=list(t)\n",
    "count=0\n",
    "for i in range(len(l)):\n",
    "    if type(l[i])==tuple:\n",
    "        count=+1\n",
    "if count==0:\n",
    "    print(\"Not tuple in tuple\")\n",
    "else:\n",
    "    print(\"Yes, tuple in tuple\")"
   ]
  },
  {
   "cell_type": "code",
   "execution_count": 305,
   "id": "38685a21",
   "metadata": {},
   "outputs": [
    {
     "name": "stdout",
     "output_type": "stream",
     "text": [
      "Enter the number6\n"
     ]
    },
    {
     "data": {
      "text/plain": [
       "(1, 0, 1, 0, 1, 0)"
      ]
     },
     "execution_count": 305,
     "metadata": {},
     "output_type": "execute_result"
    }
   ],
   "source": [
    "#50. Create a tuple of alternating 1s and 0s of length `n`.\n",
    "t=()\n",
    "n=int(input(\"Enter the number\"))\n",
    "for i in range(1,n+1):\n",
    "    if(i%2==0):\n",
    "        t=t+(0,)\n",
    "    else:\n",
    "        t=t+(1,)\n",
    "t"
   ]
  },
  {
   "cell_type": "markdown",
   "id": "5c9b4a9e",
   "metadata": {},
   "source": [
    "# Set Based Practice Problem :"
   ]
  },
  {
   "cell_type": "code",
   "execution_count": 307,
   "id": "25f08cc1",
   "metadata": {},
   "outputs": [
    {
     "name": "stdout",
     "output_type": "stream",
     "text": [
      "{1, 2, 3, 4, 5}\n",
      "<class 'set'>\n"
     ]
    }
   ],
   "source": [
    "#1. Create a set with integers from 1 to 5.\n",
    "s={1,2,3,4,5}\n",
    "print(s)\n",
    "print(type(s))"
   ]
  },
  {
   "cell_type": "code",
   "execution_count": 308,
   "id": "6f2db950",
   "metadata": {},
   "outputs": [
    {
     "name": "stdout",
     "output_type": "stream",
     "text": [
      "{1, 2, 3, 4, 5, 6}\n"
     ]
    }
   ],
   "source": [
    "#2. Add an element to a set.\n",
    "s={1,2,3,4,5}\n",
    "s.add(6)\n",
    "print(s)"
   ]
  },
  {
   "cell_type": "code",
   "execution_count": 309,
   "id": "2b0e71be",
   "metadata": {},
   "outputs": [
    {
     "name": "stdout",
     "output_type": "stream",
     "text": [
      "{1, 2, 3, 4, 5}\n"
     ]
    }
   ],
   "source": [
    "#3. Remove an element from a set.\n",
    "s={1,2,3,4,5,6}\n",
    "s.remove(6)\n",
    "print(s)"
   ]
  },
  {
   "cell_type": "code",
   "execution_count": 315,
   "id": "ff401d4e",
   "metadata": {},
   "outputs": [
    {
     "name": "stdout",
     "output_type": "stream",
     "text": [
      "Enther the check element 4\n",
      "Yes\n"
     ]
    }
   ],
   "source": [
    "#4. Check if an element exists in a set.\n",
    "s={1,2,3,4,5}\n",
    "ch=int(input(\"Enther the check element \"))\n",
    "if ch in s:\n",
    "    print(\"Yes\")\n",
    "else:\n",
    "    print(\"No\")"
   ]
  },
  {
   "cell_type": "code",
   "execution_count": 325,
   "id": "9d765ddb",
   "metadata": {},
   "outputs": [
    {
     "name": "stdout",
     "output_type": "stream",
     "text": [
      "10\n"
     ]
    }
   ],
   "source": [
    "#5. Find the length of a set without using the `len()` function.\n",
    "s={1,2,3,4,5,6,7,8,9,10}\n",
    "count1=0\n",
    "for i in s:\n",
    "    count1=count1+1\n",
    "print(count1)"
   ]
  },
  {
   "cell_type": "code",
   "execution_count": 323,
   "id": "128e0859",
   "metadata": {},
   "outputs": [
    {
     "name": "stdout",
     "output_type": "stream",
     "text": [
      "set()\n"
     ]
    }
   ],
   "source": [
    "\n",
    "#6. Clear all elements from a set.\n",
    "s={1,2,3,4,5}\n",
    "s.clear()\n",
    "print(s)"
   ]
  },
  {
   "cell_type": "code",
   "execution_count": 2,
   "id": "ce203805",
   "metadata": {},
   "outputs": [
    {
     "data": {
      "text/plain": [
       "{2, 4, 6, 8, 10}"
      ]
     },
     "execution_count": 2,
     "metadata": {},
     "output_type": "execute_result"
    }
   ],
   "source": [
    "#7. Create a set of even numbers from 1 to 10.\n",
    "s=set()\n",
    "for i in range(1,11):\n",
    "    if(i%2==0):\n",
    "        s.add(i)\n",
    "s"
   ]
  },
  {
   "cell_type": "code",
   "execution_count": 3,
   "id": "b9fc819b",
   "metadata": {},
   "outputs": [
    {
     "data": {
      "text/plain": [
       "{1, 3, 5, 7, 9}"
      ]
     },
     "execution_count": 3,
     "metadata": {},
     "output_type": "execute_result"
    }
   ],
   "source": [
    "#8. Create a set of odd numbers from 1 to 10.\n",
    "s=set()\n",
    "for i in range(1,11):\n",
    "    if(i%2!=0):\n",
    "        s.add(i)\n",
    "s"
   ]
  },
  {
   "cell_type": "code",
   "execution_count": 4,
   "id": "bd77caa9",
   "metadata": {},
   "outputs": [
    {
     "name": "stdout",
     "output_type": "stream",
     "text": [
      "{1, 2, 3, 4, 5, 6, 7, 8, 9}\n"
     ]
    }
   ],
   "source": [
    "#9. Find the union of two sets.\n",
    "s={1,2,3,4,5}\n",
    "s1={6,7,8,9,1}\n",
    "print(s.union(s1))"
   ]
  },
  {
   "cell_type": "code",
   "execution_count": 5,
   "id": "f64620f4",
   "metadata": {},
   "outputs": [
    {
     "name": "stdout",
     "output_type": "stream",
     "text": [
      "{1}\n"
     ]
    }
   ],
   "source": [
    "#10. Find the intersection of two sets.\n",
    "s={1,2,3,4,5}\n",
    "s1={6,7,8,9,1}\n",
    "print(s.intersection(s1))"
   ]
  },
  {
   "cell_type": "code",
   "execution_count": 6,
   "id": "aa0fa7f2",
   "metadata": {},
   "outputs": [
    {
     "name": "stdout",
     "output_type": "stream",
     "text": [
      "{2, 3, 4, 5}\n"
     ]
    }
   ],
   "source": [
    "#11. Find the difference between two sets.\n",
    "s={1,2,3,4,5}\n",
    "s1={6,7,8,9,1}\n",
    "print(s.difference(s1))"
   ]
  },
  {
   "cell_type": "code",
   "execution_count": 8,
   "id": "1587cc94",
   "metadata": {},
   "outputs": [
    {
     "name": "stdout",
     "output_type": "stream",
     "text": [
      "True\n"
     ]
    }
   ],
   "source": [
    "#12. Check if a set is a subset of another set.\n",
    "s={1,2,3,4,5}\n",
    "s1={2,1}\n",
    "print(s1.issubset(s))"
   ]
  },
  {
   "cell_type": "code",
   "execution_count": 11,
   "id": "a75fbc0d",
   "metadata": {},
   "outputs": [
    {
     "name": "stdout",
     "output_type": "stream",
     "text": [
      "True\n"
     ]
    }
   ],
   "source": [
    "#13. Check if a set is a superset of another set.\n",
    "s={1,2,3,4,5}\n",
    "s1={2,1}\n",
    "print(s.issuperset(s1))"
   ]
  },
  {
   "cell_type": "code",
   "execution_count": 12,
   "id": "64788886",
   "metadata": {},
   "outputs": [
    {
     "name": "stdout",
     "output_type": "stream",
     "text": [
      "<class 'set'>\n",
      "{1, 2, 3, 4, 5}\n"
     ]
    }
   ],
   "source": [
    "#14. Create a set from a list.\n",
    "l=[1,2,3,4,5]\n",
    "s=set(l)\n",
    "print(type(s))\n",
    "print(s)"
   ]
  },
  {
   "cell_type": "code",
   "execution_count": 14,
   "id": "3d13443c",
   "metadata": {},
   "outputs": [
    {
     "name": "stdout",
     "output_type": "stream",
     "text": [
      "[1, 2, 3, 4, 5, 6]\n"
     ]
    }
   ],
   "source": [
    "#15. Convert a set to a list.\n",
    "s={1,2,3,4,5,6}\n",
    "l=list(s)\n",
    "print(l)"
   ]
  },
  {
   "cell_type": "code",
   "execution_count": 33,
   "id": "60952850",
   "metadata": {},
   "outputs": [
    {
     "name": "stdout",
     "output_type": "stream",
     "text": [
      "{0, 1, 3, 4, 5, 6, 7, 8, 9}\n"
     ]
    }
   ],
   "source": [
    "#16. Remove a random element from a set.\n",
    "import random as rn\n",
    "s={1,2,3,4,5,6,7,8,9,0}\n",
    "r=int(rn.randrange(9))\n",
    "s.remove(r)\n",
    "print(s)"
   ]
  },
  {
   "cell_type": "code",
   "execution_count": 27,
   "id": "00c886d0",
   "metadata": {},
   "outputs": [
    {
     "name": "stdout",
     "output_type": "stream",
     "text": [
      "{1, 2, 3, 4, 5, 6, 7, 8, 9}\n"
     ]
    }
   ],
   "source": [
    "#17. Pop an element from a set.\n",
    "s={1,2,3,4,5,6,7,8,9,0}\n",
    "s.pop()\n",
    "print(s)"
   ]
  },
  {
   "cell_type": "code",
   "execution_count": 35,
   "id": "78a29fb5",
   "metadata": {},
   "outputs": [
    {
     "name": "stdout",
     "output_type": "stream",
     "text": [
      "No Common\n"
     ]
    }
   ],
   "source": [
    "#18. Check if two sets have no elements in common.\n",
    "s={1,2,3,4,5,}\n",
    "s1={6,7,8,9,1}\n",
    "if len(s.intersection(s1))==0:\n",
    "    print(\"No Common\")\n",
    "else:\n",
    "    print(\"Common\")"
   ]
  },
  {
   "cell_type": "code",
   "execution_count": 39,
   "id": "669a7613",
   "metadata": {},
   "outputs": [
    {
     "name": "stdout",
     "output_type": "stream",
     "text": [
      "{2, 3, 4, 5, 7, 8, 9}\n",
      "{2, 3, 4, 5, 7, 8, 9}\n"
     ]
    }
   ],
   "source": [
    "#19. Find the symmetric difference between two sets.\n",
    "s={1,2,3,4,5,6}\n",
    "s1={6,7,8,9,1}\n",
    "print(s1.symmetric_difference(s))\n",
    "print(s1.symmetric_difference(s))"
   ]
  },
  {
   "cell_type": "code",
   "execution_count": 198,
   "id": "12e8af24",
   "metadata": {},
   "outputs": [
    {
     "name": "stdout",
     "output_type": "stream",
     "text": [
      "None\n"
     ]
    },
    {
     "data": {
      "text/plain": [
       "{4, 7, 8, 9}"
      ]
     },
     "execution_count": 198,
     "metadata": {},
     "output_type": "execute_result"
    }
   ],
   "source": [
    "#20. Update a set with elements from another set.\n",
    "s={1,2,3,4,5,6}\n",
    "s1={6,7,2,3,5,8,9,1}\n",
    "print(s.symmetric_difference_update(s1))\n",
    "s"
   ]
  },
  {
   "cell_type": "code",
   "execution_count": 195,
   "id": "7a0707fc",
   "metadata": {},
   "outputs": [
    {
     "data": {
      "text/plain": [
       "{2, 3, 5, 7, 11}"
      ]
     },
     "execution_count": 195,
     "metadata": {},
     "output_type": "execute_result"
    }
   ],
   "source": [
    "#21. Create a set of the first 5 prime numbers.\n",
    "s=set()\n",
    "l=[]\n",
    "count=0\n",
    "for i in range(1,50):\n",
    "    count=0\n",
    "    for j in range(1,i):\n",
    "        if(i%j==0):\n",
    "            count=count+1\n",
    "    if count==1:\n",
    "        l.append(i)\n",
    "for i in range(5):\n",
    "    s.add(l[i])\n",
    "s"
   ]
  },
  {
   "cell_type": "code",
   "execution_count": 186,
   "id": "b6c1831e",
   "metadata": {},
   "outputs": [
    {
     "name": "stdout",
     "output_type": "stream",
     "text": [
      "False\n",
      "True\n"
     ]
    }
   ],
   "source": [
    "#22. Check if two sets are identical.\n",
    "s={1,2,3,4}\n",
    "s1={1,3,5,7}\n",
    "s2={4,3,2,1}\n",
    "print(s==s1)\n",
    "print(s==s2)"
   ]
  },
  {
   "cell_type": "code",
   "execution_count": 184,
   "id": "5a0bc8b3",
   "metadata": {},
   "outputs": [
    {
     "name": "stdout",
     "output_type": "stream",
     "text": [
      "frozenset({1, 2})\n"
     ]
    }
   ],
   "source": [
    "#23. Create a frozen set.\n",
    "f=frozenset([1,2])\n",
    "print(f)"
   ]
  },
  {
   "cell_type": "code",
   "execution_count": 182,
   "id": "b4e596f8",
   "metadata": {},
   "outputs": [
    {
     "name": "stdout",
     "output_type": "stream",
     "text": [
      "True\n"
     ]
    }
   ],
   "source": [
    "#24. Check if a set is disjoint with another set.\n",
    "s={1,2,3,4,5}\n",
    "s1={6,7}\n",
    "print(s.isdisjoint(s1))"
   ]
  },
  {
   "cell_type": "code",
   "execution_count": 179,
   "id": "e169cb5b",
   "metadata": {},
   "outputs": [
    {
     "data": {
      "text/plain": [
       "{1, 4, 9, 16, 25}"
      ]
     },
     "execution_count": 179,
     "metadata": {},
     "output_type": "execute_result"
    }
   ],
   "source": [
    "#25. Create a set of squares of numbers from 1 to 5.\n",
    "s=set()\n",
    "for i in range(1,6):\n",
    "    s.add(i**2)\n",
    "s"
   ]
  },
  {
   "cell_type": "code",
   "execution_count": 177,
   "id": "541289d5",
   "metadata": {},
   "outputs": [
    {
     "name": "stdout",
     "output_type": "stream",
     "text": [
      "2\n",
      "4\n",
      "6\n",
      "8\n",
      "10\n"
     ]
    }
   ],
   "source": [
    "#26. Filter out all even numbers from a set.\n",
    "s={1,2,3,4,5,6,7,8,9,10}\n",
    "l=list(s)\n",
    "for i in l:\n",
    "    if i%2==0:\n",
    "        print(i)"
   ]
  },
  {
   "cell_type": "code",
   "execution_count": 175,
   "id": "ea677378",
   "metadata": {},
   "outputs": [
    {
     "data": {
      "text/plain": [
       "{2, 4, 6, 8}"
      ]
     },
     "execution_count": 175,
     "metadata": {},
     "output_type": "execute_result"
    }
   ],
   "source": [
    "#27. Multiply all elements in a set by 2.\n",
    "s={1,2,3,4,5}\n",
    "l=[]\n",
    "for i in range(1,len(s)):\n",
    "    l.append(i*2)\n",
    "\n",
    "s=set(l)\n",
    "s"
   ]
  },
  {
   "cell_type": "code",
   "execution_count": 169,
   "id": "d6b6ec6b",
   "metadata": {},
   "outputs": [
    {
     "name": "stdout",
     "output_type": "stream",
     "text": [
      "Enter the size of set5\n"
     ]
    },
    {
     "data": {
      "text/plain": [
       "{38, 48, 65, 78, 86}"
      ]
     },
     "execution_count": 169,
     "metadata": {},
     "output_type": "execute_result"
    }
   ],
   "source": [
    "#28. Create a set of random numbers.\n",
    "import random\n",
    "s=set()\n",
    "n=int(input(\"Enter the size of set\"))\n",
    "for i in range(n):\n",
    "    s.add(random.randint(1,100))\n",
    "s"
   ]
  },
  {
   "cell_type": "code",
   "execution_count": 144,
   "id": "d624f0dd",
   "metadata": {},
   "outputs": [
    {
     "name": "stdout",
     "output_type": "stream",
     "text": [
      " NO Empty\n"
     ]
    }
   ],
   "source": [
    "#29. Check if a set is empty.\n",
    "s={1,2,3,4,5}\n",
    "if len(s)==0:\n",
    "    print(\"Empty\")\n",
    "else:\n",
    "    print(\" NO Empty\")"
   ]
  },
  {
   "cell_type": "code",
   "execution_count": 160,
   "id": "a439459a",
   "metadata": {},
   "outputs": [
    {
     "data": {
      "text/plain": [
       "{frozenset({3, 4}), frozenset({2, 5}), frozenset({1, 2})}"
      ]
     },
     "execution_count": 160,
     "metadata": {},
     "output_type": "execute_result"
    }
   ],
   "source": [
    "#30. Create a nested set (hint: use frozenset).\n",
    "s=set()\n",
    "s1={1,2,3}\n",
    "s2={4,5,6}\n",
    "s.add(frozenset([1,2]))\n",
    "s.add(frozenset([3,4]))\n",
    "s.add(frozenset([5,2]))\n",
    "s"
   ]
  },
  {
   "cell_type": "code",
   "execution_count": 143,
   "id": "fd5493f3",
   "metadata": {},
   "outputs": [
    {
     "name": "stdout",
     "output_type": "stream",
     "text": [
      "{1, 2, 4, 5}\n"
     ]
    }
   ],
   "source": [
    "#31. Remove an element from a set using the discard method.\n",
    "s={1,2,3,4,5}\n",
    "s.discard(3)\n",
    "print(s)"
   ]
  },
  {
   "cell_type": "code",
   "execution_count": 140,
   "id": "eeaf8984",
   "metadata": {},
   "outputs": [
    {
     "data": {
      "text/plain": [
       "True"
      ]
     },
     "execution_count": 140,
     "metadata": {},
     "output_type": "execute_result"
    }
   ],
   "source": [
    "#32. Compare two sets.\n",
    "s={1,2,3,4,5}\n",
    "s1={1,2,3,4,5}\n",
    "s==s1"
   ]
  },
  {
   "cell_type": "code",
   "execution_count": 139,
   "id": "6749b261",
   "metadata": {},
   "outputs": [
    {
     "name": "stdout",
     "output_type": "stream",
     "text": [
      "{'A', 'i', 'y', 'M', 'h', 's', 'k', 'm', 'b', 'e', 'a', ' ', 'n'}\n"
     ]
    }
   ],
   "source": [
    "#33. Create a set from a string.\n",
    "s=\"My name is Abhishek\"\n",
    "se=set(s)\n",
    "print(se)"
   ]
  },
  {
   "cell_type": "code",
   "execution_count": 138,
   "id": "6581d761",
   "metadata": {},
   "outputs": [
    {
     "name": "stdout",
     "output_type": "stream",
     "text": [
      "{1, 2}\n"
     ]
    }
   ],
   "source": [
    "#34. Convert a set of strings to a set of integers.\n",
    "s={'1','2'}\n",
    "te=set(map(int,s))\n",
    "print(te)"
   ]
  },
  {
   "cell_type": "code",
   "execution_count": 137,
   "id": "7997c0ec",
   "metadata": {},
   "outputs": [
    {
     "name": "stdout",
     "output_type": "stream",
     "text": [
      "{'1', '2', '3', '4', '5'}\n"
     ]
    }
   ],
   "source": [
    "#35. Convert a set of integers to a set of strings.\n",
    "s={1,2,3,4,5}\n",
    "ts=set(map(str,s))\n",
    "print(ts)"
   ]
  },
  {
   "cell_type": "code",
   "execution_count": 126,
   "id": "1716c90b",
   "metadata": {},
   "outputs": [
    {
     "name": "stdout",
     "output_type": "stream",
     "text": [
      "{1, 2, 3, 4, 5}\n",
      "<class 'tuple'>\n",
      "<class 'set'>\n"
     ]
    }
   ],
   "source": [
    "#36. Create a set from a tuple.\n",
    "t=(1,2,3,4,5)\n",
    "s=set(t)\n",
    "print(s)\n",
    "print(type(t))\n",
    "print(type(s))"
   ]
  },
  {
   "cell_type": "code",
   "execution_count": 122,
   "id": "f03d4e08",
   "metadata": {},
   "outputs": [
    {
     "name": "stdout",
     "output_type": "stream",
     "text": [
      "(1, 2, 3, 4, 5)\n",
      "<class 'tuple'>\n"
     ]
    }
   ],
   "source": [
    "#37. Convert a set to a tuple.\n",
    "s={1,2,3,4,5}\n",
    "t=tuple(s)\n",
    "print(t)\n",
    "print(type(t))"
   ]
  },
  {
   "cell_type": "code",
   "execution_count": 120,
   "id": "6e5f1bc8",
   "metadata": {},
   "outputs": [
    {
     "name": "stdout",
     "output_type": "stream",
     "text": [
      "5\n"
     ]
    }
   ],
   "source": [
    "#38. Find the maximum value in a set.\n",
    "s={1,2,3,4,5}\n",
    "print(max(s))"
   ]
  },
  {
   "cell_type": "code",
   "execution_count": 121,
   "id": "2de1dac9",
   "metadata": {},
   "outputs": [
    {
     "name": "stdout",
     "output_type": "stream",
     "text": [
      "1\n"
     ]
    }
   ],
   "source": [
    "#39. Find the minimum value in a set.\n",
    "s={1,2,3,4,5}\n",
    "print(min(s))"
   ]
  },
  {
   "cell_type": "code",
   "execution_count": 119,
   "id": "32f0ceab",
   "metadata": {},
   "outputs": [
    {
     "name": "stdout",
     "output_type": "stream",
     "text": [
      "Enter the set12345\n",
      "{'1', '2', '3', '4', '5'}\n"
     ]
    }
   ],
   "source": [
    "#40. Create a set from user input.\n",
    "s=set(input(\"Enter the set\"))\n",
    "print(s)"
   ]
  },
  {
   "cell_type": "code",
   "execution_count": 118,
   "id": "695dcb65",
   "metadata": {},
   "outputs": [
    {
     "name": "stdout",
     "output_type": "stream",
     "text": [
      "Yes\n"
     ]
    }
   ],
   "source": [
    "#41. Check if the intersection of two sets is empty.\n",
    "s={1,2,3,4,5}\n",
    "s1={6,7}\n",
    "if(len(s.intersection(s1))==0):\n",
    "    print(\"Yes\")\n",
    "else:\n",
    "    print(\"NO\")"
   ]
  },
  {
   "cell_type": "code",
   "execution_count": 111,
   "id": "608d5074",
   "metadata": {},
   "outputs": [
    {
     "data": {
      "text/plain": [
       "{1, 2, 3, 5, 8, 13}"
      ]
     },
     "execution_count": 111,
     "metadata": {},
     "output_type": "execute_result"
    }
   ],
   "source": [
    "#42. Create a set of the first 5 Fibonacci numbers.\n",
    "s=set()\n",
    "n,i=0,0\n",
    "n1=1\n",
    "while i<=5:\n",
    "    nth=n+n1\n",
    "    s.add(nth)\n",
    "    n=n1\n",
    "    n1=nth\n",
    "    i+=1\n",
    "s"
   ]
  },
  {
   "cell_type": "code",
   "execution_count": 100,
   "id": "0fb97f6d",
   "metadata": {},
   "outputs": [
    {
     "name": "stdout",
     "output_type": "stream",
     "text": [
      "{1, 2, 3, 4, 5}\n"
     ]
    }
   ],
   "source": [
    "#43. Remove duplicates from a list using sets.\n",
    "l=[1,2,3,4,5,4,3,2,1]\n",
    "print(set(l))"
   ]
  },
  {
   "cell_type": "code",
   "execution_count": 99,
   "id": "08400ecc",
   "metadata": {},
   "outputs": [
    {
     "name": "stdout",
     "output_type": "stream",
     "text": [
      "4\n"
     ]
    }
   ],
   "source": [
    "#44. Check if two sets have the same elements, regardless of their count.\n",
    "s={1,2,3,4,5}\n",
    "s1={6,7,8,4,3,2,9,1}\n",
    "l=list(s.intersection(s1))\n",
    "print(len(l))"
   ]
  },
  {
   "cell_type": "code",
   "execution_count": 96,
   "id": "d1683118",
   "metadata": {},
   "outputs": [
    {
     "name": "stdout",
     "output_type": "stream",
     "text": [
      "Enter the number of set10\n"
     ]
    },
    {
     "data": {
      "text/plain": [
       "{1, 4, 9, 16, 25, 36, 49, 64, 81, 100}"
      ]
     },
     "execution_count": 96,
     "metadata": {},
     "output_type": "execute_result"
    }
   ],
   "source": [
    "#45. Create a set of the first `n` powers of 2.\n",
    "s=set()\n",
    "n=int(input(\"Enter the number of set\"))\n",
    "for i in range(1,n+1):\n",
    "    s.add(i**2)\n",
    "s"
   ]
  },
  {
   "cell_type": "code",
   "execution_count": 95,
   "id": "98bbbb95",
   "metadata": {},
   "outputs": [
    {
     "name": "stdout",
     "output_type": "stream",
     "text": [
      "{1}\n"
     ]
    }
   ],
   "source": [
    "#46. Find the common elements between a set and a list.\n",
    "s={1,2,3,4,5}\n",
    "s1={6,7,8,9,1}\n",
    "print(s.intersection(s1))"
   ]
  },
  {
   "cell_type": "code",
   "execution_count": 88,
   "id": "e2c4ec90",
   "metadata": {},
   "outputs": [
    {
     "name": "stdout",
     "output_type": "stream",
     "text": [
      "Enter the number of set5\n",
      "{0, 1, 3, 6, 10}\n"
     ]
    }
   ],
   "source": [
    "#47. Create a set of the first `n` triangular numbers.\n",
    "s=set()\n",
    "n=int(input(\"Enter the number of set\"))\n",
    "sum=0\n",
    "for i in range(n):\n",
    "    sum=sum+i\n",
    "    s.add(sum)\n",
    "print(s)"
   ]
  },
  {
   "cell_type": "code",
   "execution_count": 94,
   "id": "ee335b7d",
   "metadata": {},
   "outputs": [
    {
     "ename": "TypeError",
     "evalue": "unhashable type: 'list'",
     "output_type": "error",
     "traceback": [
      "\u001b[0;31m---------------------------------------------------------------------------\u001b[0m",
      "\u001b[0;31mTypeError\u001b[0m                                 Traceback (most recent call last)",
      "Input \u001b[0;32mIn [94]\u001b[0m, in \u001b[0;36m<cell line: 4>\u001b[0;34m()\u001b[0m\n\u001b[1;32m      2\u001b[0m s\u001b[38;5;241m=\u001b[39m{\u001b[38;5;241m1\u001b[39m,\u001b[38;5;241m2\u001b[39m,\u001b[38;5;241m3\u001b[39m}\n\u001b[1;32m      3\u001b[0m s1\u001b[38;5;241m=\u001b[39m{\u001b[38;5;241m4\u001b[39m,\u001b[38;5;241m5\u001b[39m}\n\u001b[0;32m----> 4\u001b[0m se\u001b[38;5;241m=\u001b[39m{[s,s1]}\n\u001b[1;32m      5\u001b[0m \u001b[38;5;28mprint\u001b[39m(se)\n",
      "\u001b[0;31mTypeError\u001b[0m: unhashable type: 'list'"
     ]
    }
   ],
   "source": [
    "#48. Check if a set contains another set as a subset.\n",
    "s={1,2,3}\n",
    "s1={4,5}\n",
    "se=set([s,s1])\n",
    "print(se)\n"
   ]
  },
  {
   "cell_type": "code",
   "execution_count": 84,
   "id": "d2c16392",
   "metadata": {},
   "outputs": [
    {
     "name": "stdout",
     "output_type": "stream",
     "text": [
      "Enter the number of set4\n",
      "{0, 1}\n"
     ]
    }
   ],
   "source": [
    "#49. Create a set of alternating 1s and 0s of length `n`.\n",
    "s=set()\n",
    "n=int(input(\"Enter the number of set\"))\n",
    "for i in range(1,n+1):\n",
    "    if(i%2==0):\n",
    "        s.add(1)\n",
    "    else:\n",
    "        s.add(0)\n",
    "print(s)"
   ]
  },
  {
   "cell_type": "code",
   "execution_count": 54,
   "id": "5535fd78",
   "metadata": {},
   "outputs": [
    {
     "name": "stdout",
     "output_type": "stream",
     "text": [
      "Enter the number of set2\n",
      "Enter the  set12\n",
      "Enter the  set23\n",
      "{'1', '3', '2'}\n"
     ]
    }
   ],
   "source": [
    "#50. Merge multiple sets into one.\n",
    "n=int(input(\"Enter the number of set\"))\n",
    "s=set()\n",
    "l=[]\n",
    "for i in range(n):\n",
    "    l.append(\"a\"+str(i))\n",
    "    l[i]=set(input(\"Enter the  set\"))\n",
    "    s=s.union(l[i])\n",
    "print(s)    "
   ]
  },
  {
   "cell_type": "markdown",
   "id": "dc534f2a",
   "metadata": {},
   "source": [
    "# i=1\n",
    "print(\"ss\"+str(i))"
   ]
  },
  {
   "cell_type": "code",
   "execution_count": null,
   "id": "f47e2c26",
   "metadata": {},
   "outputs": [],
   "source": []
  }
 ],
 "metadata": {
  "kernelspec": {
   "display_name": "Python 3 (ipykernel)",
   "language": "python",
   "name": "python3"
  },
  "language_info": {
   "codemirror_mode": {
    "name": "ipython",
    "version": 3
   },
   "file_extension": ".py",
   "mimetype": "text/x-python",
   "name": "python",
   "nbconvert_exporter": "python",
   "pygments_lexer": "ipython3",
   "version": "3.9.12"
  }
 },
 "nbformat": 4,
 "nbformat_minor": 5
}
